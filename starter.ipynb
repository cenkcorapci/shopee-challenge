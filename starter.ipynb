{
 "cells": [
  {
   "cell_type": "markdown",
   "metadata": {
    "papermill": {
     "duration": 0.032514,
     "end_time": "2021-03-18T12:35:15.258516",
     "exception": false,
     "start_time": "2021-03-18T12:35:15.226002",
     "status": "completed"
    },
    "tags": []
   },
   "source": [
    "# <font color='brown' size=4>Objective:</font> \n",
    "        \n",
    "<p> This notebook explores different approaches for learning discriminative embeddings using popular algorithms from both text and image. We also get to explore about a concept called <b>Metric learning</b> which is very relevant for this competition</p>"
   ]
  },
  {
   "cell_type": "markdown",
   "metadata": {
    "papermill": {
     "duration": 0.029971,
     "end_time": "2021-03-18T12:35:15.318553",
     "exception": false,
     "start_time": "2021-03-18T12:35:15.288582",
     "status": "completed"
    },
    "tags": []
   },
   "source": [
    "> **📌 Note**: Here we gradually learn from basic representation to the advanced ones as always"
   ]
  },
  {
   "cell_type": "markdown",
   "metadata": {
    "papermill": {
     "duration": 0.029804,
     "end_time": "2021-03-18T12:35:15.377998",
     "exception": false,
     "start_time": "2021-03-18T12:35:15.348194",
     "status": "completed"
    },
    "tags": []
   },
   "source": [
    "<font color='brown' size=4>Ride on 🚀</font><br>"
   ]
  },
  {
   "cell_type": "code",
   "execution_count": 1,
   "metadata": {
    "_kg_hide-input": true,
    "_kg_hide-output": true,
    "execution": {
     "iopub.execute_input": "2021-03-18T12:35:15.443490Z",
     "iopub.status.busy": "2021-03-18T12:35:15.442944Z",
     "iopub.status.idle": "2021-03-18T12:35:43.863397Z",
     "shell.execute_reply": "2021-03-18T12:35:43.862783Z"
    },
    "papermill": {
     "duration": 28.455933,
     "end_time": "2021-03-18T12:35:43.863585",
     "exception": false,
     "start_time": "2021-03-18T12:35:15.407652",
     "status": "completed"
    },
    "tags": []
   },
   "outputs": [
    {
     "name": "stdout",
     "output_type": "stream",
     "text": [
      "Collecting sentence_transformers\r\n",
      "  Downloading sentence-transformers-0.4.1.2.tar.gz (64 kB)\r\n",
      "\u001b[K     |████████████████████████████████| 64 kB 774 kB/s \r\n",
      "\u001b[?25hRequirement already satisfied: transformers<5.0.0,>=3.1.0 in /opt/conda/lib/python3.7/site-packages (from sentence_transformers) (4.2.2)\r\n",
      "Requirement already satisfied: tqdm in /opt/conda/lib/python3.7/site-packages (from sentence_transformers) (4.55.1)\r\n",
      "Requirement already satisfied: torch>=1.6.0 in /opt/conda/lib/python3.7/site-packages (from sentence_transformers) (1.7.0)\r\n",
      "Requirement already satisfied: numpy in /opt/conda/lib/python3.7/site-packages (from sentence_transformers) (1.19.5)\r\n",
      "Requirement already satisfied: scikit-learn in /opt/conda/lib/python3.7/site-packages (from sentence_transformers) (0.24.1)\r\n",
      "Requirement already satisfied: scipy in /opt/conda/lib/python3.7/site-packages (from sentence_transformers) (1.5.4)\r\n",
      "Requirement already satisfied: nltk in /opt/conda/lib/python3.7/site-packages (from sentence_transformers) (3.2.4)\r\n",
      "Requirement already satisfied: sentencepiece in /opt/conda/lib/python3.7/site-packages (from sentence_transformers) (0.1.95)\r\n",
      "Requirement already satisfied: future in /opt/conda/lib/python3.7/site-packages (from torch>=1.6.0->sentence_transformers) (0.18.2)\r\n",
      "Requirement already satisfied: typing_extensions in /opt/conda/lib/python3.7/site-packages (from torch>=1.6.0->sentence_transformers) (3.7.4.3)\r\n",
      "Requirement already satisfied: dataclasses in /opt/conda/lib/python3.7/site-packages (from torch>=1.6.0->sentence_transformers) (0.6)\r\n",
      "Requirement already satisfied: regex!=2019.12.17 in /opt/conda/lib/python3.7/site-packages (from transformers<5.0.0,>=3.1.0->sentence_transformers) (2020.11.13)\r\n",
      "Requirement already satisfied: requests in /opt/conda/lib/python3.7/site-packages (from transformers<5.0.0,>=3.1.0->sentence_transformers) (2.25.1)\r\n",
      "Requirement already satisfied: tokenizers==0.9.4 in /opt/conda/lib/python3.7/site-packages (from transformers<5.0.0,>=3.1.0->sentence_transformers) (0.9.4)\r\n",
      "Requirement already satisfied: sacremoses in /opt/conda/lib/python3.7/site-packages (from transformers<5.0.0,>=3.1.0->sentence_transformers) (0.0.43)\r\n",
      "Requirement already satisfied: packaging in /opt/conda/lib/python3.7/site-packages (from transformers<5.0.0,>=3.1.0->sentence_transformers) (20.8)\r\n",
      "Requirement already satisfied: importlib-metadata in /opt/conda/lib/python3.7/site-packages (from transformers<5.0.0,>=3.1.0->sentence_transformers) (3.3.0)\r\n",
      "Requirement already satisfied: filelock in /opt/conda/lib/python3.7/site-packages (from transformers<5.0.0,>=3.1.0->sentence_transformers) (3.0.12)\r\n",
      "Requirement already satisfied: zipp>=0.5 in /opt/conda/lib/python3.7/site-packages (from importlib-metadata->transformers<5.0.0,>=3.1.0->sentence_transformers) (3.4.0)\r\n",
      "Requirement already satisfied: six in /opt/conda/lib/python3.7/site-packages (from nltk->sentence_transformers) (1.15.0)\r\n",
      "Requirement already satisfied: pyparsing>=2.0.2 in /opt/conda/lib/python3.7/site-packages (from packaging->transformers<5.0.0,>=3.1.0->sentence_transformers) (2.4.7)\r\n",
      "Requirement already satisfied: idna<3,>=2.5 in /opt/conda/lib/python3.7/site-packages (from requests->transformers<5.0.0,>=3.1.0->sentence_transformers) (2.10)\r\n",
      "Requirement already satisfied: urllib3<1.27,>=1.21.1 in /opt/conda/lib/python3.7/site-packages (from requests->transformers<5.0.0,>=3.1.0->sentence_transformers) (1.26.2)\r\n",
      "Requirement already satisfied: chardet<5,>=3.0.2 in /opt/conda/lib/python3.7/site-packages (from requests->transformers<5.0.0,>=3.1.0->sentence_transformers) (3.0.4)\r\n",
      "Requirement already satisfied: certifi>=2017.4.17 in /opt/conda/lib/python3.7/site-packages (from requests->transformers<5.0.0,>=3.1.0->sentence_transformers) (2020.12.5)\r\n",
      "Requirement already satisfied: click in /opt/conda/lib/python3.7/site-packages (from sacremoses->transformers<5.0.0,>=3.1.0->sentence_transformers) (7.1.2)\r\n",
      "Requirement already satisfied: joblib in /opt/conda/lib/python3.7/site-packages (from sacremoses->transformers<5.0.0,>=3.1.0->sentence_transformers) (1.0.0)\r\n",
      "Requirement already satisfied: threadpoolctl>=2.0.0 in /opt/conda/lib/python3.7/site-packages (from scikit-learn->sentence_transformers) (2.1.0)\r\n",
      "Building wheels for collected packages: sentence-transformers\r\n",
      "  Building wheel for sentence-transformers (setup.py) ... \u001b[?25l-\b \b\\\b \bdone\r\n",
      "\u001b[?25h  Created wheel for sentence-transformers: filename=sentence_transformers-0.4.1.2-py3-none-any.whl size=103066 sha256=4adaf2e0e692ef7559ea291e7f8426fb3df95d51b898f02565414065a44cf0b4\r\n",
      "  Stored in directory: /root/.cache/pip/wheels/1c/a2/db/5d9e7c4aa8dbd82718c202fb1bc7118c2d3bf0925af92943f2\r\n",
      "Successfully built sentence-transformers\r\n",
      "Installing collected packages: sentence-transformers\r\n",
      "Successfully installed sentence-transformers-0.4.1.2\r\n",
      "Collecting timm\r\n",
      "  Downloading timm-0.4.5-py3-none-any.whl (287 kB)\r\n",
      "\u001b[K     |████████████████████████████████| 287 kB 1.2 MB/s \r\n",
      "\u001b[?25hRequirement already satisfied: torchvision in /opt/conda/lib/python3.7/site-packages (from timm) (0.8.1)\r\n",
      "Requirement already satisfied: torch>=1.4 in /opt/conda/lib/python3.7/site-packages (from timm) (1.7.0)\r\n",
      "Requirement already satisfied: future in /opt/conda/lib/python3.7/site-packages (from torch>=1.4->timm) (0.18.2)\r\n",
      "Requirement already satisfied: typing_extensions in /opt/conda/lib/python3.7/site-packages (from torch>=1.4->timm) (3.7.4.3)\r\n",
      "Requirement already satisfied: dataclasses in /opt/conda/lib/python3.7/site-packages (from torch>=1.4->timm) (0.6)\r\n",
      "Requirement already satisfied: numpy in /opt/conda/lib/python3.7/site-packages (from torch>=1.4->timm) (1.19.5)\r\n",
      "Requirement already satisfied: pillow>=4.1.1 in /opt/conda/lib/python3.7/site-packages (from torchvision->timm) (7.2.0)\r\n",
      "Installing collected packages: timm\r\n",
      "Successfully installed timm-0.4.5\r\n"
     ]
    }
   ],
   "source": [
    "!pip install sentence_transformers\n",
    "!pip install timm\n",
    "!pip install -q pytorch-metric-learning[with-hooks]"
   ]
  },
  {
   "cell_type": "code",
   "execution_count": 2,
   "metadata": {
    "_cell_guid": "b1076dfc-b9ad-4769-8c92-a6c4dae69d19",
    "_uuid": "8f2839f25d086af736a60e9eeb907d3b93b6e0e5",
    "execution": {
     "iopub.execute_input": "2021-03-18T12:35:43.951961Z",
     "iopub.status.busy": "2021-03-18T12:35:43.950808Z",
     "iopub.status.idle": "2021-03-18T12:36:07.217118Z",
     "shell.execute_reply": "2021-03-18T12:36:07.215954Z"
    },
    "papermill": {
     "duration": 23.316564,
     "end_time": "2021-03-18T12:36:07.217254",
     "exception": false,
     "start_time": "2021-03-18T12:35:43.900690",
     "status": "completed"
    },
    "tags": []
   },
   "outputs": [],
   "source": [
    "import numpy as np # linear algebra\n",
    "import pandas as pd # data processing, CSV file I/O (e.g. pd.read_csv)\n",
    "\n",
    "import os\n",
    "from sentence_transformers import SentenceTransformer, InputExample, losses\n",
    "from torch.utils.data import DataLoader\n",
    "import logging\n",
    "from datetime import datetime\n",
    "import math\n",
    "from sklearn.model_selection import train_test_split\n",
    "from sentence_transformers import SentenceTransformer, models\n",
    "from torch import nn\n",
    "from sentence_transformers.evaluation import BinaryClassificationEvaluator\n",
    "\n",
    "\n",
    "import cv2\n",
    "import torch.nn.init as init\n",
    "import torch\n",
    "from PIL import Image, ImageFilter\n",
    "from sklearn.model_selection import train_test_split, StratifiedKFold\n",
    "from torch.utils.data import Dataset\n",
    "from torchvision import transforms\n",
    "from torch.optim import Adam, SGD, RMSprop\n",
    "import time\n",
    "from torch.autograd import Variable\n",
    "import torch.functional as F\n",
    "from tqdm import tqdm\n",
    "from sklearn import metrics\n",
    "import urllib\n",
    "import pickle\n",
    "import cv2\n",
    "import torch.nn.functional as F\n",
    "from torchvision import models as torchmodels\n",
    "import seaborn as sns\n",
    "import random\n",
    "import timm\n",
    "from sklearn.metrics import roc_auc_score\n",
    "from sklearn import preprocessing\n",
    "\n",
    "import sys\n",
    "\n",
    "%matplotlib inline\n",
    "from pytorch_metric_learning import losses as pml_loss, miners, samplers, trainers, testers\n",
    "from pytorch_metric_learning.utils import common_functions\n",
    "import pytorch_metric_learning.utils.logging_presets as logging_presets\n",
    "import torchvision\n",
    "from torchvision import datasets, transforms\n",
    "from PIL import Image\n",
    "import logging\n",
    "import matplotlib.pyplot as plt\n",
    "import umap\n",
    "from cycler import cycler\n",
    "import record_keeper\n",
    "import pytorch_metric_learning\n",
    "import albumentations\n",
    "from albumentations.pytorch.transforms import ToTensorV2\n",
    "from torch.optim.lr_scheduler import CosineAnnealingWarmRestarts, CosineAnnealingLR, ReduceLROnPlateau\n",
    "\n",
    "logging.getLogger().setLevel(logging.INFO)\n",
    "logging.info(\"VERSION %s\"%pytorch_metric_learning.__version__)"
   ]
  },
  {
   "cell_type": "markdown",
   "metadata": {
    "papermill": {
     "duration": 0.036272,
     "end_time": "2021-03-18T12:36:07.289780",
     "exception": false,
     "start_time": "2021-03-18T12:36:07.253508",
     "status": "completed"
    },
    "tags": []
   },
   "source": [
    "# Table of Contents\n",
    "\n",
    "- 1. Embedding representations\n",
    "   - 1.1 Text embeddings\n",
    "   - 1.2 Image embeddings\n",
    "\n",
    "- 2. Sbert overview\n",
    "   - 2.1 Architecture\n",
    "      \n",
    "- 3. Introduction to metric learning\n",
    "   - 3.1 Pytorch metric learning toolkit\n",
    "\n",
    "- 4. Finetuning\n",
    "   - 4.1 Sentence bert finetuning\n",
    "   - 4.2 Pytorch metric learning(PML) for image embedding\n",
    "   - 4.3 Custom pipeline + PML\n",
    "       - 4.4 Utils\n",
    "       - 4.5 Engine\n",
    "       \n",
    "- 5. Acknowledgements"
   ]
  },
  {
   "cell_type": "markdown",
   "metadata": {
    "papermill": {
     "duration": 0.035938,
     "end_time": "2021-03-18T12:36:07.361866",
     "exception": false,
     "start_time": "2021-03-18T12:36:07.325928",
     "status": "completed"
    },
    "tags": []
   },
   "source": [
    "# <font color='brown' size=4>1. Embedding representations</font>"
   ]
  },
  {
   "cell_type": "markdown",
   "metadata": {
    "papermill": {
     "duration": 0.035818,
     "end_time": "2021-03-18T12:36:07.433634",
     "exception": false,
     "start_time": "2021-03-18T12:36:07.397816",
     "status": "completed"
    },
    "tags": []
   },
   "source": [
    "<p>An image or text can be represented in many ways. But what makes it unique for the any machine learning model to learn is the distribution it learns underneath.</p> \n",
    "    \n",
    "\n",
    "  <p>Ideally an embedding is a relatively low-dimensional space into which you can translate high-dimensional vectors. Ideally, an embedding captures some of the semantics of the input by placing semantically similar inputs close together. An embedding can be learned and reused across models. </p>"
   ]
  },
  {
   "cell_type": "markdown",
   "metadata": {
    "papermill": {
     "duration": 0.036449,
     "end_time": "2021-03-18T12:36:07.507976",
     "exception": false,
     "start_time": "2021-03-18T12:36:07.471527",
     "status": "completed"
    },
    "tags": []
   },
   "source": [
    "## <font color='brown' size=4>1.1 Text embeddings</font>"
   ]
  },
  {
   "cell_type": "markdown",
   "metadata": {
    "papermill": {
     "duration": 0.035845,
     "end_time": "2021-03-18T12:36:07.581684",
     "exception": false,
     "start_time": "2021-03-18T12:36:07.545839",
     "status": "completed"
    },
    "tags": []
   },
   "source": [
    "<p> Machine learning models take vectors (arrays of numbers) as input. When working with text, the first thing you must do is come up with a strategy to convert strings to numbers (or to \"vectorize\" the text) before feeding it to the model.\n",
    "\n",
    "Now, there are again many ways to do it, lets explain some of the basic ones and move to the recent advancements in the NLP world</p>"
   ]
  },
  {
   "cell_type": "markdown",
   "metadata": {
    "papermill": {
     "duration": 0.03561,
     "end_time": "2021-03-18T12:36:07.653347",
     "exception": false,
     "start_time": "2021-03-18T12:36:07.617737",
     "status": "completed"
    },
    "tags": []
   },
   "source": [
    "<b>One-hot encodings:</b>\n",
    "\n",
    "As a first idea, you might \"one-hot\" encode each word in your vocabulary. Consider the sentence \"The cat sat on the mat\". The vocabulary (or unique words) in this sentence is (cat, mat, on, sat, the). To represent each word, you will create a zero vector with length equal to the vocabulary, then place a one in the index that corresponds to the word. This approach is shown in the following diagram."
   ]
  },
  {
   "cell_type": "markdown",
   "metadata": {
    "papermill": {
     "duration": 0.035873,
     "end_time": "2021-03-18T12:36:07.725267",
     "exception": false,
     "start_time": "2021-03-18T12:36:07.689394",
     "status": "completed"
    },
    "tags": []
   },
   "source": [
    "<img src='https://github.com/tensorflow/docs/blob/master/site/en/tutorials/text/images/one-hot.png?raw=1' width=1000>\n",
    "<div align=\"center\"><font size=\"3\">Source: Google</font></div>"
   ]
  },
  {
   "cell_type": "markdown",
   "metadata": {
    "papermill": {
     "duration": 0.037912,
     "end_time": "2021-03-18T12:36:07.799173",
     "exception": false,
     "start_time": "2021-03-18T12:36:07.761261",
     "status": "completed"
    },
    "tags": []
   },
   "source": [
    "<b>Indexing words:</b>\n",
    "\n",
    "A second approach you might try is to encode each word using a unique number. Continuing the example above, you could assign 1 to \"cat\", 2 to \"mat\", and so on. You could then encode the sentence \"The cat sat on the mat\" as a dense vector like [5, 1, 4, 3, 5, 2]. This appoach is efficient. Instead of a sparse vector, you now have a dense one (where all elements are full). But it also has downsides to it"
   ]
  },
  {
   "cell_type": "markdown",
   "metadata": {
    "papermill": {
     "duration": 0.035908,
     "end_time": "2021-03-18T12:36:07.871021",
     "exception": false,
     "start_time": "2021-03-18T12:36:07.835113",
     "status": "completed"
    },
    "tags": []
   },
   "source": [
    "<b>Word embeddings:</b>\n",
    "\n",
    "Third approach is is word embeddings. Word embeddings give us a way to use an efficient, dense representation in which similar words have a similar encoding. Importantly, you do not have to specify this encoding by hand. An embedding is a dense vector of floating point values (the length of the vector is a parameter you specify). Instead of specifying the values for the embedding manually, they are trainable parameters (weights learned by the model during training, in the same way a model learns weights for a dense layer)"
   ]
  },
  {
   "cell_type": "markdown",
   "metadata": {
    "papermill": {
     "duration": 0.03594,
     "end_time": "2021-03-18T12:36:07.942986",
     "exception": false,
     "start_time": "2021-03-18T12:36:07.907046",
     "status": "completed"
    },
    "tags": []
   },
   "source": [
    "<img src='https://github.com/tensorflow/docs/blob/master/site/en/tutorials/text/images/embedding2.png?raw=1' width=1000>\n",
    "<div align=\"center\"><font size=\"3\">Source: Google</font></div>"
   ]
  },
  {
   "cell_type": "markdown",
   "metadata": {
    "papermill": {
     "duration": 0.03562,
     "end_time": "2021-03-18T12:36:08.014672",
     "exception": false,
     "start_time": "2021-03-18T12:36:07.979052",
     "status": "completed"
    },
    "tags": []
   },
   "source": [
    "> **📌 Note**: From the invention of word embeddings,n number of approaches came out to learn the representation from text. With the transformers ruling the NLP space, we will look into one of its architecture which has been specifically designed for learning sentence representation"
   ]
  },
  {
   "cell_type": "markdown",
   "metadata": {
    "papermill": {
     "duration": 0.053414,
     "end_time": "2021-03-18T12:36:08.104232",
     "exception": false,
     "start_time": "2021-03-18T12:36:08.050818",
     "status": "completed"
    },
    "tags": []
   },
   "source": [
    "## <font color='brown' size=4>1.2 Image embeddings</font>"
   ]
  },
  {
   "cell_type": "markdown",
   "metadata": {
    "papermill": {
     "duration": 0.036499,
     "end_time": "2021-03-18T12:36:08.180961",
     "exception": false,
     "start_time": "2021-03-18T12:36:08.144462",
     "status": "completed"
    },
    "tags": []
   },
   "source": [
    "<p> Image embeddings are lot more intuitive than text, in a lot of use cases we can either use the pretrained models like VGG,Resnet,Effnet to get features out of it or finetune a model for custom use and use it for lot of exciting applications like similarity match,image retrieval etc </p>"
   ]
  },
  {
   "cell_type": "markdown",
   "metadata": {
    "papermill": {
     "duration": 0.035898,
     "end_time": "2021-03-18T12:36:08.253099",
     "exception": false,
     "start_time": "2021-03-18T12:36:08.217201",
     "status": "completed"
    },
    "tags": []
   },
   "source": [
    "> **📌 Note**: Lot of pretrained backbone models can be used for getting embeddings, here we will train efficientnet and resnet based model with metric learning to learn the image embeddings from our product images"
   ]
  },
  {
   "cell_type": "markdown",
   "metadata": {
    "papermill": {
     "duration": 0.036255,
     "end_time": "2021-03-18T12:36:08.325351",
     "exception": false,
     "start_time": "2021-03-18T12:36:08.289096",
     "status": "completed"
    },
    "tags": []
   },
   "source": [
    "# <font color='brown' size=4>2. Sbert overview</font>"
   ]
  },
  {
   "cell_type": "markdown",
   "metadata": {
    "papermill": {
     "duration": 0.035982,
     "end_time": "2021-03-18T12:36:08.397374",
     "exception": false,
     "start_time": "2021-03-18T12:36:08.361392",
     "status": "completed"
    },
    "tags": []
   },
   "source": [
    "<p>Sentence-BERT (SBERT), a modification of the BERT network uses siamese and triplet networks to derive semantically meaningful sentence embeddings\n",
    "    \n",
    "For sentence / text embeddings, we want to map a variable length input text to a fixed sized dense vector. The most basic network architecture we can use is the following:\n",
    "</p>"
   ]
  },
  {
   "cell_type": "markdown",
   "metadata": {
    "papermill": {
     "duration": 0.035885,
     "end_time": "2021-03-18T12:36:08.469210",
     "exception": false,
     "start_time": "2021-03-18T12:36:08.433325",
     "status": "completed"
    },
    "tags": []
   },
   "source": [
    "<img src='https://www.sbert.net/_images/SBERT_Architecture.png' width=1000>\n",
    "<div align=\"center\"><font size=\"3\">Source: Sbert</font></div>\n"
   ]
  },
  {
   "cell_type": "markdown",
   "metadata": {
    "papermill": {
     "duration": 0.036164,
     "end_time": "2021-03-18T12:36:08.541617",
     "exception": false,
     "start_time": "2021-03-18T12:36:08.505453",
     "status": "completed"
    },
    "tags": []
   },
   "source": [
    "> **📌 Note**: We feed the input sentence or text into a transformer network like BERT. BERT produces contextualized word embeddings for all input tokens in our text. As we want a fixed-sized output representation (vector u), we need a pooling layer. Different pooling options are available, the most basic one is mean-pooling: We simply average all contextualized word embeddings BERT is giving us. This gives us a fixed 768 dimensional output vector independet how long our input text was."
   ]
  },
  {
   "cell_type": "markdown",
   "metadata": {
    "papermill": {
     "duration": 0.035581,
     "end_time": "2021-03-18T12:36:08.613220",
     "exception": false,
     "start_time": "2021-03-18T12:36:08.577639",
     "status": "completed"
    },
    "tags": []
   },
   "source": [
    "## <font color='brown' size=4>2.1 Architecture</font>"
   ]
  },
  {
   "cell_type": "markdown",
   "metadata": {
    "papermill": {
     "duration": 0.035929,
     "end_time": "2021-03-18T12:36:08.685175",
     "exception": false,
     "start_time": "2021-03-18T12:36:08.649246",
     "status": "completed"
    },
    "tags": []
   },
   "source": [
    "<p>The most simple way is to have sentence pairs annotated with a score indicating their similarity, e.g. on a scale 0 to 1. We can then train the network with a Siamese Network Architecture</p>"
   ]
  },
  {
   "cell_type": "markdown",
   "metadata": {
    "papermill": {
     "duration": 0.035844,
     "end_time": "2021-03-18T12:36:08.757007",
     "exception": false,
     "start_time": "2021-03-18T12:36:08.721163",
     "status": "completed"
    },
    "tags": []
   },
   "source": [
    "<img src='https://www.sbert.net/_images/SBERT_Siamese_Network1.png' width=1000>\n",
    "<div align=\"center\"><font size=\"3\">Source: Sbert</font></div>"
   ]
  },
  {
   "cell_type": "markdown",
   "metadata": {
    "papermill": {
     "duration": 0.036423,
     "end_time": "2021-03-18T12:36:08.829283",
     "exception": false,
     "start_time": "2021-03-18T12:36:08.792860",
     "status": "completed"
    },
    "tags": []
   },
   "source": [
    "> **📌 Note**: For each sentence pair, we pass sentence A and sentence B through our network which yields the embeddings u und v. The similarity of these embeddings is computed using cosine similarity and the result is compared to the gold similarity score. This allows our network to be fine-tuned and to recognize the similarity of sentences."
   ]
  },
  {
   "cell_type": "markdown",
   "metadata": {
    "papermill": {
     "duration": 0.036086,
     "end_time": "2021-03-18T12:36:08.901611",
     "exception": false,
     "start_time": "2021-03-18T12:36:08.865525",
     "status": "completed"
    },
    "tags": []
   },
   "source": [
    "# <font color='brown' size=4>3. Introduction to metric learning</font>"
   ]
  },
  {
   "cell_type": "markdown",
   "metadata": {
    "papermill": {
     "duration": 0.035659,
     "end_time": "2021-03-18T12:36:08.973632",
     "exception": false,
     "start_time": "2021-03-18T12:36:08.937973",
     "status": "completed"
    },
    "tags": []
   },
   "source": [
    "<p>The goal of Metric Learning is to learn a representation function that maps objects into an embedded space. The distance in the embedded space should preserve the objects’ similarity — similar objects get close and dissimilar objects get far away. Various loss functions have been developed for Metric Learning.</p>\n",
    "    \n",
    "   <p>For example, the <b>contrastive loss</b> guides the objects from the same class to be mapped to the same point and those from different classes to be mapped to different points whose distances are larger than a margin. <b>Triplet loss</b> is also popular, which requires the distance between the anchor sample and the positive sample to be smaller than the distance between the anchor sample and the negative sample.</p>"
   ]
  },
  {
   "cell_type": "markdown",
   "metadata": {
    "papermill": {
     "duration": 0.035831,
     "end_time": "2021-03-18T12:36:09.045943",
     "exception": false,
     "start_time": "2021-03-18T12:36:09.010112",
     "status": "completed"
    },
    "tags": []
   },
   "source": [
    "## <font color='brown' size=4>3.1 Pytorch metric learning toolkit</font>"
   ]
  },
  {
   "cell_type": "markdown",
   "metadata": {
    "papermill": {
     "duration": 0.03599,
     "end_time": "2021-03-18T12:36:09.118238",
     "exception": false,
     "start_time": "2021-03-18T12:36:09.082248",
     "status": "completed"
    },
    "tags": []
   },
   "source": [
    "<p>PyTorch Metric Learning is an open source library that aims to do metric based learning elegantly. The modular and flexible design allows users to easily try out different combinations of algorithms in their existing code. It also comes with complete train/test workflows, for users who want results fast.</p>"
   ]
  },
  {
   "cell_type": "markdown",
   "metadata": {
    "papermill": {
     "duration": 0.036058,
     "end_time": "2021-03-18T12:36:09.190110",
     "exception": false,
     "start_time": "2021-03-18T12:36:09.154052",
     "status": "completed"
    },
    "tags": []
   },
   "source": [
    "**Major components:**\n",
    "\n",
    "* Miners: Determine the best way to create batches\n",
    "* Losses: Loss functions work similarly to many regular PyTorch loss functions\n",
    "* Distances: Distance metrics used in loss function for comparison of embeddings\n",
    "* Reducers: Losses are typically computed per element, pair, or triplet, and are then                   reduced to a single value by some operation, such as averaging"
   ]
  },
  {
   "cell_type": "markdown",
   "metadata": {
    "papermill": {
     "duration": 0.035909,
     "end_time": "2021-03-18T12:36:09.263149",
     "exception": false,
     "start_time": "2021-03-18T12:36:09.227240",
     "status": "completed"
    },
    "tags": []
   },
   "source": [
    "<img src='https://kevinmusgrave.github.io/pytorch-metric-learning/imgs/high_level_loss_function_overview.png' width=1000>\n",
    "<div align=\"center\"><font size=\"3\">Source: PML</font></div>"
   ]
  },
  {
   "cell_type": "markdown",
   "metadata": {
    "papermill": {
     "duration": 0.035662,
     "end_time": "2021-03-18T12:36:09.334870",
     "exception": false,
     "start_time": "2021-03-18T12:36:09.299208",
     "status": "completed"
    },
    "tags": []
   },
   "source": [
    "> **📌 Note**: Please refer to their documentation for detailed explanation, link is attached in the acknowledgement section"
   ]
  },
  {
   "cell_type": "markdown",
   "metadata": {
    "papermill": {
     "duration": 0.039216,
     "end_time": "2021-03-18T12:36:09.410047",
     "exception": false,
     "start_time": "2021-03-18T12:36:09.370831",
     "status": "completed"
    },
    "tags": []
   },
   "source": [
    "# <font color='brown' size=4>4. Finetuning</font>"
   ]
  },
  {
   "cell_type": "markdown",
   "metadata": {
    "papermill": {
     "duration": 0.042432,
     "end_time": "2021-03-18T12:36:09.495145",
     "exception": false,
     "start_time": "2021-03-18T12:36:09.452713",
     "status": "completed"
    },
    "tags": []
   },
   "source": [
    "<p>Let's now finetune text and images of the product to get more relevant embeddings which can later be used for finding similarity</p>"
   ]
  },
  {
   "cell_type": "markdown",
   "metadata": {
    "papermill": {
     "duration": 0.035797,
     "end_time": "2021-03-18T12:36:09.572224",
     "exception": false,
     "start_time": "2021-03-18T12:36:09.536427",
     "status": "completed"
    },
    "tags": []
   },
   "source": [
    "## <font color='brown' size=4>4.1 Sentence bert finetuning</font>"
   ]
  },
  {
   "cell_type": "markdown",
   "metadata": {
    "papermill": {
     "duration": 0.035826,
     "end_time": "2021-03-18T12:36:09.644101",
     "exception": false,
     "start_time": "2021-03-18T12:36:09.608275",
     "status": "completed"
    },
    "tags": []
   },
   "source": [
    "<b>Dataset credit</b> : https://www.kaggle.com/tanulsingh077/shopee-siamese-training"
   ]
  },
  {
   "cell_type": "code",
   "execution_count": 3,
   "metadata": {
    "execution": {
     "iopub.execute_input": "2021-03-18T12:36:09.724323Z",
     "iopub.status.busy": "2021-03-18T12:36:09.723799Z",
     "iopub.status.idle": "2021-03-18T12:36:10.442427Z",
     "shell.execute_reply": "2021-03-18T12:36:10.441897Z"
    },
    "papermill": {
     "duration": 0.762296,
     "end_time": "2021-03-18T12:36:10.442561",
     "exception": false,
     "start_time": "2021-03-18T12:36:09.680265",
     "status": "completed"
    },
    "tags": []
   },
   "outputs": [],
   "source": [
    "train_df=pd.read_csv('../input/shopee-product-matching/train.csv')\n",
    "test_df=pd.read_csv('../input/shopee-product-matching/test.csv')\n",
    "siam_data=pd.read_csv('../input/shopee-siamese-training/siamese_data.csv')\n",
    "\n",
    "train_image_path='../input/shopee-product-matching/train_images/'\n",
    "\n",
    "siam_data['image_1_path']=siam_data['image_1'].apply(lambda x: train_image_path+x)\n",
    "siam_data['image_2_path']=siam_data['image_2'].apply(lambda x: train_image_path+x)\n",
    "\n",
    "train_df['image_path']=train_df['image'].apply(lambda x: train_image_path+x)\n",
    "labels_list=train_df['label_group'].value_counts().index[:100].tolist() ##filtering only 100 labels\n",
    "\n",
    "train_df=train_df[train_df['label_group'].isin(labels_list)].reset_index(drop=True)"
   ]
  },
  {
   "cell_type": "code",
   "execution_count": 4,
   "metadata": {
    "execution": {
     "iopub.execute_input": "2021-03-18T12:36:10.527327Z",
     "iopub.status.busy": "2021-03-18T12:36:10.526829Z",
     "iopub.status.idle": "2021-03-18T12:36:10.537833Z",
     "shell.execute_reply": "2021-03-18T12:36:10.538510Z"
    },
    "papermill": {
     "duration": 0.058959,
     "end_time": "2021-03-18T12:36:10.538641",
     "exception": false,
     "start_time": "2021-03-18T12:36:10.479682",
     "status": "completed"
    },
    "tags": []
   },
   "outputs": [
    {
     "data": {
      "text/html": [
       "<div>\n",
       "<style scoped>\n",
       "    .dataframe tbody tr th:only-of-type {\n",
       "        vertical-align: middle;\n",
       "    }\n",
       "\n",
       "    .dataframe tbody tr th {\n",
       "        vertical-align: top;\n",
       "    }\n",
       "\n",
       "    .dataframe thead th {\n",
       "        text-align: right;\n",
       "    }\n",
       "</style>\n",
       "<table border=\"1\" class=\"dataframe\">\n",
       "  <thead>\n",
       "    <tr style=\"text-align: right;\">\n",
       "      <th></th>\n",
       "      <th>posting_id_1</th>\n",
       "      <th>posting_id_2</th>\n",
       "      <th>title_1</th>\n",
       "      <th>title_2</th>\n",
       "      <th>image_1</th>\n",
       "      <th>image_2</th>\n",
       "      <th>label</th>\n",
       "      <th>image_1_path</th>\n",
       "      <th>image_2_path</th>\n",
       "    </tr>\n",
       "  </thead>\n",
       "  <tbody>\n",
       "    <tr>\n",
       "      <th>0</th>\n",
       "      <td>train_129225211</td>\n",
       "      <td>train_2278313361</td>\n",
       "      <td>Paper Bag Victoria Secret</td>\n",
       "      <td>PAPER BAG VICTORIA SECRET</td>\n",
       "      <td>0000a68812bc7e98c42888dfb1c07da0.jpg</td>\n",
       "      <td>f83b49a86a0ee8592e3bf0204da3fbdf.jpg</td>\n",
       "      <td>1</td>\n",
       "      <td>../input/shopee-product-matching/train_images/...</td>\n",
       "      <td>../input/shopee-product-matching/train_images/...</td>\n",
       "    </tr>\n",
       "    <tr>\n",
       "      <th>1</th>\n",
       "      <td>train_129225211</td>\n",
       "      <td>train_866245802</td>\n",
       "      <td>Paper Bag Victoria Secret</td>\n",
       "      <td>BGSR Jaket Cagoule / Jaket Cagoule Premium / J...</td>\n",
       "      <td>0000a68812bc7e98c42888dfb1c07da0.jpg</td>\n",
       "      <td>5b9a1c01bf01447982a8f0a593909d07.jpg</td>\n",
       "      <td>0</td>\n",
       "      <td>../input/shopee-product-matching/train_images/...</td>\n",
       "      <td>../input/shopee-product-matching/train_images/...</td>\n",
       "    </tr>\n",
       "  </tbody>\n",
       "</table>\n",
       "</div>"
      ],
      "text/plain": [
       "      posting_id_1      posting_id_2                    title_1  \\\n",
       "0  train_129225211  train_2278313361  Paper Bag Victoria Secret   \n",
       "1  train_129225211   train_866245802  Paper Bag Victoria Secret   \n",
       "\n",
       "                                             title_2  \\\n",
       "0                          PAPER BAG VICTORIA SECRET   \n",
       "1  BGSR Jaket Cagoule / Jaket Cagoule Premium / J...   \n",
       "\n",
       "                                image_1                               image_2  \\\n",
       "0  0000a68812bc7e98c42888dfb1c07da0.jpg  f83b49a86a0ee8592e3bf0204da3fbdf.jpg   \n",
       "1  0000a68812bc7e98c42888dfb1c07da0.jpg  5b9a1c01bf01447982a8f0a593909d07.jpg   \n",
       "\n",
       "   label                                       image_1_path  \\\n",
       "0      1  ../input/shopee-product-matching/train_images/...   \n",
       "1      0  ../input/shopee-product-matching/train_images/...   \n",
       "\n",
       "                                        image_2_path  \n",
       "0  ../input/shopee-product-matching/train_images/...  \n",
       "1  ../input/shopee-product-matching/train_images/...  "
      ]
     },
     "execution_count": 4,
     "metadata": {},
     "output_type": "execute_result"
    }
   ],
   "source": [
    "siam_data.head(2)"
   ]
  },
  {
   "cell_type": "code",
   "execution_count": 5,
   "metadata": {
    "execution": {
     "iopub.execute_input": "2021-03-18T12:36:10.617134Z",
     "iopub.status.busy": "2021-03-18T12:36:10.616203Z",
     "iopub.status.idle": "2021-03-18T12:36:10.623191Z",
     "shell.execute_reply": "2021-03-18T12:36:10.622739Z"
    },
    "papermill": {
     "duration": 0.047798,
     "end_time": "2021-03-18T12:36:10.623299",
     "exception": false,
     "start_time": "2021-03-18T12:36:10.575501",
     "status": "completed"
    },
    "tags": []
   },
   "outputs": [
    {
     "data": {
      "text/plain": [
       "0    34832\n",
       "1    20874\n",
       "Name: label, dtype: int64"
      ]
     },
     "execution_count": 5,
     "metadata": {},
     "output_type": "execute_result"
    }
   ],
   "source": [
    "siam_data['label'].value_counts()"
   ]
  },
  {
   "cell_type": "code",
   "execution_count": 6,
   "metadata": {
    "execution": {
     "iopub.execute_input": "2021-03-18T12:36:10.709794Z",
     "iopub.status.busy": "2021-03-18T12:36:10.709064Z",
     "iopub.status.idle": "2021-03-18T12:36:10.752556Z",
     "shell.execute_reply": "2021-03-18T12:36:10.752088Z"
    },
    "papermill": {
     "duration": 0.088782,
     "end_time": "2021-03-18T12:36:10.752674",
     "exception": false,
     "start_time": "2021-03-18T12:36:10.663892",
     "status": "completed"
    },
    "tags": []
   },
   "outputs": [],
   "source": [
    "#shuffle the data for split\n",
    "siam_data=siam_data.sample(frac=0.5).reset_index(drop=True) #taking only sample of data\n",
    "train,val = train_test_split(siam_data, test_size=0.2, random_state=42,\n",
    "                                                       stratify=siam_data['label'])"
   ]
  },
  {
   "cell_type": "code",
   "execution_count": 7,
   "metadata": {
    "execution": {
     "iopub.execute_input": "2021-03-18T12:36:10.832720Z",
     "iopub.status.busy": "2021-03-18T12:36:10.832176Z",
     "iopub.status.idle": "2021-03-18T12:36:10.835534Z",
     "shell.execute_reply": "2021-03-18T12:36:10.835941Z"
    },
    "papermill": {
     "duration": 0.045088,
     "end_time": "2021-03-18T12:36:10.836084",
     "exception": false,
     "start_time": "2021-03-18T12:36:10.790996",
     "status": "completed"
    },
    "tags": []
   },
   "outputs": [],
   "source": [
    "model_name = 'bert-base-uncased'\n",
    "train_batch_size = 16\n",
    "num_epochs = 1\n",
    "model_save_path = 'output/training_stsbenchmark_continue_training-'+model_name+'-'+datetime.now().strftime(\"%Y-%m-%d_%H-%M-%S\")"
   ]
  },
  {
   "cell_type": "code",
   "execution_count": 8,
   "metadata": {
    "execution": {
     "iopub.execute_input": "2021-03-18T12:36:10.915515Z",
     "iopub.status.busy": "2021-03-18T12:36:10.914975Z",
     "iopub.status.idle": "2021-03-18T12:36:27.323482Z",
     "shell.execute_reply": "2021-03-18T12:36:27.322976Z"
    },
    "papermill": {
     "duration": 16.45,
     "end_time": "2021-03-18T12:36:27.323630",
     "exception": false,
     "start_time": "2021-03-18T12:36:10.873630",
     "status": "completed"
    },
    "tags": []
   },
   "outputs": [
    {
     "data": {
      "application/vnd.jupyter.widget-view+json": {
       "model_id": "28853fbe6398449797381f61fb4ed6b4",
       "version_major": 2,
       "version_minor": 0
      },
      "text/plain": [
       "Downloading:   0%|          | 0.00/433 [00:00<?, ?B/s]"
      ]
     },
     "metadata": {},
     "output_type": "display_data"
    },
    {
     "data": {
      "application/vnd.jupyter.widget-view+json": {
       "model_id": "0c9d7345f42f4f0c8a1951c70899d686",
       "version_major": 2,
       "version_minor": 0
      },
      "text/plain": [
       "Downloading:   0%|          | 0.00/440M [00:00<?, ?B/s]"
      ]
     },
     "metadata": {},
     "output_type": "display_data"
    },
    {
     "data": {
      "application/vnd.jupyter.widget-view+json": {
       "model_id": "7360056ea12b4f38bd7d64a3f808daff",
       "version_major": 2,
       "version_minor": 0
      },
      "text/plain": [
       "Downloading:   0%|          | 0.00/232k [00:00<?, ?B/s]"
      ]
     },
     "metadata": {},
     "output_type": "display_data"
    },
    {
     "data": {
      "application/vnd.jupyter.widget-view+json": {
       "model_id": "ceaf1c9bec1143ea8a91a81084f37d37",
       "version_major": 2,
       "version_minor": 0
      },
      "text/plain": [
       "Downloading:   0%|          | 0.00/466k [00:00<?, ?B/s]"
      ]
     },
     "metadata": {},
     "output_type": "display_data"
    }
   ],
   "source": [
    "#Get the bert base uncased embedding and pass it into pooling layer and a linear layer for findal representation\n",
    "word_embedding_model = models.Transformer(model_name, max_seq_length=512)\n",
    "pooling_model = models.Pooling(word_embedding_model.get_word_embedding_dimension())\n",
    "dense_model = models.Dense(in_features=pooling_model.get_sentence_embedding_dimension(), out_features=512, activation_function=nn.Tanh())\n",
    "\n",
    "model = SentenceTransformer(modules=[word_embedding_model, pooling_model, dense_model])"
   ]
  },
  {
   "cell_type": "code",
   "execution_count": 9,
   "metadata": {
    "execution": {
     "iopub.execute_input": "2021-03-18T12:36:27.408512Z",
     "iopub.status.busy": "2021-03-18T12:36:27.407749Z",
     "iopub.status.idle": "2021-03-18T12:36:29.876714Z",
     "shell.execute_reply": "2021-03-18T12:36:29.875641Z"
    },
    "papermill": {
     "duration": 2.513468,
     "end_time": "2021-03-18T12:36:29.876855",
     "exception": false,
     "start_time": "2021-03-18T12:36:27.363387",
     "status": "completed"
    },
    "tags": []
   },
   "outputs": [],
   "source": [
    "#Prepare dataset\n",
    "train_samples = []\n",
    "val_samples = []\n",
    "\n",
    "for row in train.iterrows():\n",
    "        inp_example = InputExample(texts=[row[1]['title_1'], row[1]['title_2']], label=row[1]['label'])\n",
    "        train_samples.append(inp_example)         \n",
    "\n",
    "for row in val.iterrows():\n",
    "        inp_example = InputExample(texts=[row[1]['title_1'], row[1]['title_2']], label=row[1]['label'])\n",
    "        val_samples.append(inp_example)   "
   ]
  },
  {
   "cell_type": "code",
   "execution_count": 10,
   "metadata": {
    "execution": {
     "iopub.execute_input": "2021-03-18T12:36:29.969702Z",
     "iopub.status.busy": "2021-03-18T12:36:29.969179Z",
     "iopub.status.idle": "2021-03-18T12:41:10.287592Z",
     "shell.execute_reply": "2021-03-18T12:41:10.285918Z"
    },
    "papermill": {
     "duration": 280.371854,
     "end_time": "2021-03-18T12:41:10.287736",
     "exception": false,
     "start_time": "2021-03-18T12:36:29.915882",
     "status": "completed"
    },
    "tags": []
   },
   "outputs": [
    {
     "data": {
      "application/vnd.jupyter.widget-view+json": {
       "model_id": "7b76fe2c7fa7457a8baef603d8d8abfc",
       "version_major": 2,
       "version_minor": 0
      },
      "text/plain": [
       "Epoch:   0%|          | 0/1 [00:00<?, ?it/s]"
      ]
     },
     "metadata": {},
     "output_type": "display_data"
    },
    {
     "data": {
      "application/vnd.jupyter.widget-view+json": {
       "model_id": "237bdfe2507042eb97b2fe43c9d3d4b2",
       "version_major": 2,
       "version_minor": 0
      },
      "text/plain": [
       "Iteration:   0%|          | 0/1393 [00:00<?, ?it/s]"
      ]
     },
     "metadata": {},
     "output_type": "display_data"
    }
   ],
   "source": [
    "train_dataloader = DataLoader(train_samples, shuffle=True, batch_size=train_batch_size)\n",
    "train_loss = losses.ContrastiveLoss(model=model)\n",
    "\n",
    "\n",
    "# Development set: Measure correlation between cosine score and gold labels\n",
    "logging.info(\"Read evaluation dev dataset\")\n",
    "evaluator = BinaryClassificationEvaluator.from_input_examples(val_samples, name='contrast-dev')\n",
    "\n",
    "\n",
    "# Configure the training. We skip evaluation in this example\n",
    "warmup_steps = math.ceil(len(train_dataloader) * num_epochs * 0.1) #10% of train data for warm-up\n",
    "logging.info(\"Warmup-steps: {}\".format(warmup_steps))\n",
    "\n",
    "\n",
    "# Train the model\n",
    "model.fit(train_objectives=[(train_dataloader, train_loss)],\n",
    "          evaluator=evaluator,\n",
    "          epochs=num_epochs,\n",
    "          evaluation_steps=1000,\n",
    "          warmup_steps=warmup_steps,\n",
    "          output_path=model_save_path)\n"
   ]
  },
  {
   "cell_type": "markdown",
   "metadata": {
    "papermill": {
     "duration": 0.045699,
     "end_time": "2021-03-18T12:41:10.386736",
     "exception": false,
     "start_time": "2021-03-18T12:41:10.341037",
     "status": "completed"
    },
    "tags": []
   },
   "source": [
    "## <font color='brown' size=4>4.2 Pytorch metric learning(PML) for image embedding</font>"
   ]
  },
  {
   "cell_type": "markdown",
   "metadata": {
    "papermill": {
     "duration": 0.044542,
     "end_time": "2021-03-18T12:41:10.476431",
     "exception": false,
     "start_time": "2021-03-18T12:41:10.431889",
     "status": "completed"
    },
    "tags": []
   },
   "source": [
    "> **📌 Note**: Here we will train the model using metric learning, So that same class gets similar representation, this can be even tried with siamese architecture"
   ]
  },
  {
   "cell_type": "code",
   "execution_count": 11,
   "metadata": {
    "execution": {
     "iopub.execute_input": "2021-03-18T12:41:10.575004Z",
     "iopub.status.busy": "2021-03-18T12:41:10.574126Z",
     "iopub.status.idle": "2021-03-18T12:41:10.577496Z",
     "shell.execute_reply": "2021-03-18T12:41:10.576977Z"
    },
    "papermill": {
     "duration": 0.056926,
     "end_time": "2021-03-18T12:41:10.577618",
     "exception": false,
     "start_time": "2021-03-18T12:41:10.520692",
     "status": "completed"
    },
    "tags": []
   },
   "outputs": [],
   "source": [
    "#Dummy model for the pipeline building, it can be replaced with any model\n",
    "\n",
    "class MLP(nn.Module):\n",
    "    # layer_sizes[0] is the dimension of the input\n",
    "    # layer_sizes[-1] is the dimension of the output\n",
    "    def __init__(self, layer_sizes, final_relu=False):\n",
    "        super().__init__()\n",
    "        layer_list = []\n",
    "        layer_sizes = [int(x) for x in layer_sizes]\n",
    "        num_layers = len(layer_sizes) - 1\n",
    "        final_relu_layer = num_layers if final_relu else num_layers - 1\n",
    "        for i in range(len(layer_sizes) - 1):\n",
    "            input_size = layer_sizes[i]\n",
    "            curr_size = layer_sizes[i + 1]\n",
    "            if i < final_relu_layer:\n",
    "                layer_list.append(nn.ReLU(inplace=False))\n",
    "            layer_list.append(nn.Linear(input_size, curr_size))\n",
    "        self.net = nn.Sequential(*layer_list)\n",
    "        self.last_linear = self.net[-1]\n",
    "\n",
    "    def forward(self, x):\n",
    "        return self.net(x)"
   ]
  },
  {
   "cell_type": "code",
   "execution_count": 12,
   "metadata": {
    "execution": {
     "iopub.execute_input": "2021-03-18T12:41:10.681276Z",
     "iopub.status.busy": "2021-03-18T12:41:10.680429Z",
     "iopub.status.idle": "2021-03-18T12:41:11.479769Z",
     "shell.execute_reply": "2021-03-18T12:41:11.479286Z"
    },
    "papermill": {
     "duration": 0.855488,
     "end_time": "2021-03-18T12:41:11.479897",
     "exception": false,
     "start_time": "2021-03-18T12:41:10.624409",
     "status": "completed"
    },
    "tags": []
   },
   "outputs": [
    {
     "name": "stderr",
     "output_type": "stream",
     "text": [
      "Downloading: \"https://download.pytorch.org/models/resnet18-5c106cde.pth\" to /root/.cache/torch/hub/checkpoints/resnet18-5c106cde.pth\n"
     ]
    },
    {
     "data": {
      "application/vnd.jupyter.widget-view+json": {
       "model_id": "800cada328eb4fdea8c7724e5c9521b3",
       "version_major": 2,
       "version_minor": 0
      },
      "text/plain": [
       "  0%|          | 0.00/44.7M [00:00<?, ?B/s]"
      ]
     },
     "metadata": {},
     "output_type": "display_data"
    }
   ],
   "source": [
    "device = torch.device(\"cuda\" if torch.cuda.is_available() else \"cpu\")\n",
    "\n",
    "# Set trunk model and replace the softmax layer with an identity function\n",
    "trunk = torchvision.models.resnet18(pretrained=True) #any model can be used as trunk/backbone\n",
    "trunk_output_size = trunk.fc.in_features\n",
    "trunk.fc = common_functions.Identity()\n",
    "trunk = trunk.to(device)\n",
    "\n",
    "# Set embedder model. This takes in the output of the trunk and outputs 512 dimensional embeddings\n",
    "embedder = MLP([trunk_output_size, 512]).to(device)\n",
    "\n",
    "# Set optimizers\n",
    "trunk_optimizer = torch.optim.Adam(trunk.parameters(), lr=0.00001, weight_decay=0.0001)\n",
    "embedder_optimizer = torch.optim.Adam(embedder.parameters(), lr=0.0001, weight_decay=0.0001)\n",
    "\n",
    "# Set the image transforms\n",
    "train_transform = transforms.Compose([transforms.Resize(512),\n",
    "                                    transforms.RandomResizedCrop(scale=(0.16, 1), ratio=(0.75, 1.33), size=64),\n",
    "                                    transforms.RandomHorizontalFlip(0.5),\n",
    "                                    transforms.ToTensor(),\n",
    "                                    transforms.Normalize(mean=[0.485, 0.456, 0.406], std=[0.229, 0.224, 0.225])])\n",
    "\n",
    "val_transform = transforms.Compose([transforms.Resize(512),\n",
    "                                    transforms.ToTensor(),\n",
    "                                    transforms.Normalize(mean=[0.485, 0.456, 0.406], std=[0.229, 0.224, 0.225])])"
   ]
  },
  {
   "cell_type": "markdown",
   "metadata": {
    "papermill": {
     "duration": 0.042318,
     "end_time": "2021-03-18T12:41:11.564082",
     "exception": false,
     "start_time": "2021-03-18T12:41:11.521764",
     "status": "completed"
    },
    "tags": []
   },
   "source": [
    "### <font color='brown' size=4>Transforms</font>"
   ]
  },
  {
   "cell_type": "code",
   "execution_count": 13,
   "metadata": {
    "execution": {
     "iopub.execute_input": "2021-03-18T12:41:11.655699Z",
     "iopub.status.busy": "2021-03-18T12:41:11.654384Z",
     "iopub.status.idle": "2021-03-18T12:41:11.657880Z",
     "shell.execute_reply": "2021-03-18T12:41:11.657193Z"
    },
    "papermill": {
     "duration": 0.051937,
     "end_time": "2021-03-18T12:41:11.657996",
     "exception": false,
     "start_time": "2021-03-18T12:41:11.606059",
     "status": "completed"
    },
    "tags": []
   },
   "outputs": [],
   "source": [
    "def get_train_transforms():\n",
    "    return albumentations.Compose(\n",
    "        [\n",
    "            albumentations.HorizontalFlip(p=0.5),\n",
    "            albumentations.VerticalFlip(p=0.5),\n",
    "            albumentations.Rotate(limit=120, p=0.8),\n",
    "            albumentations.RandomBrightness(limit=(0.09, 0.6), p=0.5),\n",
    "            albumentations.Cutout(num_holes=8, max_h_size=8, max_w_size=8, fill_value=0, always_apply=False, p=0.5),\n",
    "            albumentations.ShiftScaleRotate(\n",
    "                shift_limit=0.25, scale_limit=0.1, rotate_limit=0\n",
    "            ),\n",
    "            albumentations.Normalize(\n",
    "                [0.485, 0.456, 0.406], [0.229, 0.224, 0.225], max_pixel_value=255.0, always_apply=True\n",
    "            ),\n",
    "        \n",
    "            ToTensorV2(p=1.0),\n",
    "        ]\n",
    "    )\n",
    "\n",
    "def get_valid_transforms():\n",
    "\n",
    "    return albumentations.Compose(\n",
    "        [albumentations.Normalize([0.485, 0.456, 0.406], [0.229, 0.224, 0.225], max_pixel_value=255.0, always_apply=True),\n",
    "        ToTensorV2(p=1.0)\n",
    "        ]\n",
    "    )\n"
   ]
  },
  {
   "cell_type": "markdown",
   "metadata": {
    "papermill": {
     "duration": 0.043442,
     "end_time": "2021-03-18T12:41:11.745171",
     "exception": false,
     "start_time": "2021-03-18T12:41:11.701729",
     "status": "completed"
    },
    "tags": []
   },
   "source": [
    "### <font color='brown' size=4>Dataset</font>"
   ]
  },
  {
   "cell_type": "code",
   "execution_count": 14,
   "metadata": {
    "execution": {
     "iopub.execute_input": "2021-03-18T12:41:11.838254Z",
     "iopub.status.busy": "2021-03-18T12:41:11.837742Z",
     "iopub.status.idle": "2021-03-18T12:41:11.841732Z",
     "shell.execute_reply": "2021-03-18T12:41:11.841323Z"
    },
    "papermill": {
     "duration": 0.053622,
     "end_time": "2021-03-18T12:41:11.841832",
     "exception": false,
     "start_time": "2021-03-18T12:41:11.788210",
     "status": "completed"
    },
    "tags": []
   },
   "outputs": [],
   "source": [
    "class MyDataset(Dataset):\n",
    "    \n",
    "    def __init__(self, dataframe,dim=(512,512), transform=None, test=False):\n",
    "        self.df = dataframe\n",
    "        self.transform = transform\n",
    "        self.test = test\n",
    "        self.dim=dim\n",
    "    \n",
    "    def __len__(self):\n",
    "        return len(self.df)\n",
    "    \n",
    "    def __getitem__(self, idx):\n",
    "        \n",
    "        label = self.df.label.values[idx]\n",
    "        p_path = self.df.image_path.values[idx]\n",
    "        \n",
    "            \n",
    "        image = cv2.imread(p_path)\n",
    "        image = cv2.cvtColor(image, cv2.COLOR_BGR2RGB)\n",
    "#         image = cv2.resize(image, (IMG_SIZE, IMG_SIZE))\n",
    "        #image = transforms.ToPILImage()(image)\n",
    "        if self.dim:\n",
    "            image = cv2.resize(image,self.dim)\n",
    "            \n",
    "        if self.transform:\n",
    "            image = self.transform(image=image)\n",
    "        \n",
    "        return image['image'], label"
   ]
  },
  {
   "cell_type": "code",
   "execution_count": 15,
   "metadata": {
    "execution": {
     "iopub.execute_input": "2021-03-18T12:41:11.935379Z",
     "iopub.status.busy": "2021-03-18T12:41:11.934526Z",
     "iopub.status.idle": "2021-03-18T12:41:11.938721Z",
     "shell.execute_reply": "2021-03-18T12:41:11.938013Z"
    },
    "papermill": {
     "duration": 0.053159,
     "end_time": "2021-03-18T12:41:11.938883",
     "exception": false,
     "start_time": "2021-03-18T12:41:11.885724",
     "status": "completed"
    },
    "tags": []
   },
   "outputs": [],
   "source": [
    "le = preprocessing.LabelEncoder()\n",
    "train_df['label'] = le.fit_transform(train_df['label_group'])"
   ]
  },
  {
   "cell_type": "code",
   "execution_count": 16,
   "metadata": {
    "execution": {
     "iopub.execute_input": "2021-03-18T12:41:12.032904Z",
     "iopub.status.busy": "2021-03-18T12:41:12.032105Z",
     "iopub.status.idle": "2021-03-18T12:41:12.042600Z",
     "shell.execute_reply": "2021-03-18T12:41:12.042192Z"
    },
    "papermill": {
     "duration": 0.05905,
     "end_time": "2021-03-18T12:41:12.042704",
     "exception": false,
     "start_time": "2021-03-18T12:41:11.983654",
     "status": "completed"
    },
    "tags": []
   },
   "outputs": [],
   "source": [
    "train_data,val_data = train_test_split(train_df, test_size=0.4, random_state=42,\n",
    "                                                       stratify=train_df['label'])\n",
    "\n",
    "train_dataset=MyDataset(train_data,transform=get_train_transforms())\n",
    "val_dataset=MyDataset(val_data,transform=get_valid_transforms())"
   ]
  },
  {
   "cell_type": "code",
   "execution_count": 17,
   "metadata": {
    "execution": {
     "iopub.execute_input": "2021-03-18T12:41:12.174165Z",
     "iopub.status.busy": "2021-03-18T12:41:12.173324Z",
     "iopub.status.idle": "2021-03-18T12:41:12.183278Z",
     "shell.execute_reply": "2021-03-18T12:41:12.185501Z"
    },
    "papermill": {
     "duration": 0.089902,
     "end_time": "2021-03-18T12:41:12.185694",
     "exception": false,
     "start_time": "2021-03-18T12:41:12.095792",
     "status": "completed"
    },
    "tags": []
   },
   "outputs": [],
   "source": [
    "# Set the loss function, here i use triplet loss\n",
    "loss = pml_loss.TripletMarginLoss(margin=0.1)\n",
    "\n",
    "# Set the mining function\n",
    "miner = miners.MultiSimilarityMiner(epsilon=0.1)\n",
    "\n",
    "# Set the dataloader sampler\n",
    "sampler = samplers.MPerClassSampler(train_data.label, m=4, length_before_new_iter=len(train_data))\n",
    "\n",
    "# Set other training parameters\n",
    "batch_size = 32\n",
    "num_epochs = 1\n",
    "\n",
    "# Package the above stuff into dictionaries.\n",
    "models = {\"trunk\": trunk, \"embedder\": embedder}\n",
    "optimizers = {\"trunk_optimizer\": trunk_optimizer, \"embedder_optimizer\": embedder_optimizer}\n",
    "loss_funcs = {\"metric_loss\": loss}\n",
    "mining_funcs = {\"tuple_miner\": miner}"
   ]
  },
  {
   "cell_type": "code",
   "execution_count": 18,
   "metadata": {
    "execution": {
     "iopub.execute_input": "2021-03-18T12:41:12.330890Z",
     "iopub.status.busy": "2021-03-18T12:41:12.330095Z",
     "iopub.status.idle": "2021-03-18T12:41:12.363498Z",
     "shell.execute_reply": "2021-03-18T12:41:12.362866Z"
    },
    "papermill": {
     "duration": 0.106716,
     "end_time": "2021-03-18T12:41:12.363662",
     "exception": false,
     "start_time": "2021-03-18T12:41:12.256946",
     "status": "completed"
    },
    "tags": []
   },
   "outputs": [],
   "source": [
    "record_keeper, _, _ = logging_presets.get_record_keeper(\"example_logs\", \"example_tensorboard\")\n",
    "hooks = logging_presets.get_hook_container(record_keeper)\n",
    "dataset_dict = {\"val\": val_dataset}\n",
    "model_folder = \"example_saved_models\"\n",
    "\n",
    "#To visualize the embeddings of different classes after one epoch training\n",
    "def visualizer_hook(umapper, umap_embeddings, labels, split_name, keyname, *args):\n",
    "    logging.info(\"UMAP plot for the {} split and label set {}\".format(split_name, keyname))\n",
    "    label_set = np.unique(labels)\n",
    "    num_classes = len(label_set)\n",
    "    fig = plt.figure(figsize=(20,15))\n",
    "    plt.gca().set_prop_cycle(cycler(\"color\", [plt.cm.nipy_spectral(i) for i in np.linspace(0, 0.9, num_classes)]))\n",
    "    for i in range(num_classes):\n",
    "        idx = labels == label_set[i]\n",
    "        plt.plot(umap_embeddings[idx, 0], umap_embeddings[idx, 1], \".\", markersize=1)   \n",
    "    plt.show()\n",
    "\n",
    "# Create the tester\n",
    "tester = testers.GlobalEmbeddingSpaceTester(end_of_testing_hook = hooks.end_of_testing_hook, \n",
    "                                            visualizer = umap.UMAP(), \n",
    "                                            visualizer_hook = visualizer_hook,\n",
    "                                            dataloader_num_workers = 4)\n",
    "\n",
    "end_of_epoch_hook = hooks.end_of_epoch_hook(tester, \n",
    "                                            dataset_dict, \n",
    "                                            model_folder, \n",
    "                                            test_interval = 1,\n",
    "                                            patience = 1)"
   ]
  },
  {
   "cell_type": "code",
   "execution_count": 19,
   "metadata": {
    "execution": {
     "iopub.execute_input": "2021-03-18T12:41:12.507276Z",
     "iopub.status.busy": "2021-03-18T12:41:12.506496Z",
     "iopub.status.idle": "2021-03-18T12:41:12.510001Z",
     "shell.execute_reply": "2021-03-18T12:41:12.510590Z"
    },
    "papermill": {
     "duration": 0.07869,
     "end_time": "2021-03-18T12:41:12.510770",
     "exception": false,
     "start_time": "2021-03-18T12:41:12.432080",
     "status": "completed"
    },
    "tags": []
   },
   "outputs": [],
   "source": [
    "trainer = trainers.MetricLossOnly(models,\n",
    "                                optimizers,\n",
    "                                batch_size,\n",
    "                                loss_funcs,\n",
    "                                mining_funcs,\n",
    "                                train_dataset,\n",
    "                                sampler=sampler,\n",
    "                                dataloader_num_workers = 4,\n",
    "                                end_of_iteration_hook = hooks.end_of_iteration_hook,\n",
    "                                end_of_epoch_hook = end_of_epoch_hook)"
   ]
  },
  {
   "cell_type": "code",
   "execution_count": 20,
   "metadata": {
    "execution": {
     "iopub.execute_input": "2021-03-18T12:41:12.657625Z",
     "iopub.status.busy": "2021-03-18T12:41:12.656852Z",
     "iopub.status.idle": "2021-03-18T12:42:08.829430Z",
     "shell.execute_reply": "2021-03-18T12:42:08.828374Z"
    },
    "papermill": {
     "duration": 56.250627,
     "end_time": "2021-03-18T12:42:08.829610",
     "exception": false,
     "start_time": "2021-03-18T12:41:12.578983",
     "status": "completed"
    },
    "tags": []
   },
   "outputs": [
    {
     "name": "stderr",
     "output_type": "stream",
     "text": [
      "total_loss=0.09075: 100%|██████████| 37/37 [00:27<00:00,  1.35it/s]\n",
      "100%|██████████| 32/32 [00:16<00:00,  1.96it/s]\n"
     ]
    },
    {
     "data": {
      "image/png": "[encoded data removed]",
      "text/plain": [
       "<Figure size 1440x1080 with 1 Axes>"
      ]
     },
     "metadata": {
      "needs_background": "light"
     },
     "output_type": "display_data"
    }
   ],
   "source": [
    "trainer.train(num_epochs=num_epochs)"
   ]
  },
  {
   "cell_type": "markdown",
   "metadata": {
    "papermill": {
     "duration": 0.072577,
     "end_time": "2021-03-18T12:42:08.976450",
     "exception": false,
     "start_time": "2021-03-18T12:42:08.903873",
     "status": "completed"
    },
    "tags": []
   },
   "source": [
    "# <font color='brown' size=4>4.3 Custom pipeline + PML</font>"
   ]
  },
  {
   "cell_type": "markdown",
   "metadata": {
    "papermill": {
     "duration": 0.073236,
     "end_time": "2021-03-18T12:42:09.124974",
     "exception": false,
     "start_time": "2021-03-18T12:42:09.051738",
     "status": "completed"
    },
    "tags": []
   },
   "source": [
    "> **📌 Note**: Here we use metric learning but with our custom model with effnet backbone"
   ]
  },
  {
   "cell_type": "markdown",
   "metadata": {
    "papermill": {
     "duration": 0.072801,
     "end_time": "2021-03-18T12:42:09.270095",
     "exception": false,
     "start_time": "2021-03-18T12:42:09.197294",
     "status": "completed"
    },
    "tags": []
   },
   "source": [
    "Reference: https://www.kaggle.com/tanulsingh077/siamese-style-training-efficient-net-b0"
   ]
  },
  {
   "cell_type": "markdown",
   "metadata": {
    "papermill": {
     "duration": 0.072063,
     "end_time": "2021-03-18T12:42:09.416817",
     "exception": false,
     "start_time": "2021-03-18T12:42:09.344754",
     "status": "completed"
    },
    "tags": []
   },
   "source": [
    "## <font color='brown' size=4>4.4 Utils</font>"
   ]
  },
  {
   "cell_type": "code",
   "execution_count": 21,
   "metadata": {
    "execution": {
     "iopub.execute_input": "2021-03-18T12:42:09.568948Z",
     "iopub.status.busy": "2021-03-18T12:42:09.567133Z",
     "iopub.status.idle": "2021-03-18T12:42:09.569547Z",
     "shell.execute_reply": "2021-03-18T12:42:09.569942Z"
    },
    "papermill": {
     "duration": 0.081215,
     "end_time": "2021-03-18T12:42:09.570066",
     "exception": false,
     "start_time": "2021-03-18T12:42:09.488851",
     "status": "completed"
    },
    "tags": []
   },
   "outputs": [],
   "source": [
    "DIM = (512,512)\n",
    "\n",
    "NUM_WORKERS = 4\n",
    "TRAIN_BATCH_SIZE = 16\n",
    "VALID_BATCH_SIZE = 16\n",
    "EPOCHS = 1\n",
    "SEED = 2020\n",
    "LR = 3e-4\n",
    "\n",
    "\n",
    "DEVICE = \"cuda\"\n",
    "\n",
    "MEAN = [0.485, 0.456, 0.406]\n",
    "STD = [0.229, 0.224, 0.225]\n",
    "\n",
    "\n",
    "################################################# MODEL ####################################################################\n",
    "\n",
    "MODEL_NAME = 'efficientnet_b0' #efficientnet_b3 #efficientnetb5 #efficientnetb7\n",
    "\n",
    "SCHEDULER = 'CosineAnnealingWarmRestarts' #'CosineAnnealingLR'\n",
    "T_0=3 # CosineAnnealingWarmRestarts\n",
    "min_lr=1e-6"
   ]
  },
  {
   "cell_type": "code",
   "execution_count": 22,
   "metadata": {
    "execution": {
     "iopub.execute_input": "2021-03-18T12:42:09.716547Z",
     "iopub.status.busy": "2021-03-18T12:42:09.714768Z",
     "iopub.status.idle": "2021-03-18T12:42:09.717127Z",
     "shell.execute_reply": "2021-03-18T12:42:09.717543Z"
    },
    "papermill": {
     "duration": 0.077816,
     "end_time": "2021-03-18T12:42:09.717670",
     "exception": false,
     "start_time": "2021-03-18T12:42:09.639854",
     "status": "completed"
    },
    "tags": []
   },
   "outputs": [],
   "source": [
    "def seed_everything(seed):\n",
    "    random.seed(seed)\n",
    "    os.environ['PYTHONHASHSEED'] = str(seed)\n",
    "    np.random.seed(seed)\n",
    "    torch.manual_seed(seed)\n",
    "    torch.cuda.manual_seed(seed)\n",
    "    torch.backends.cudnn.deterministic = True\n",
    "    torch.backends.cudnn.benchmark = True\n",
    "\n",
    "seed_everything(SEED)"
   ]
  },
  {
   "cell_type": "code",
   "execution_count": 23,
   "metadata": {
    "execution": {
     "iopub.execute_input": "2021-03-18T12:42:09.864524Z",
     "iopub.status.busy": "2021-03-18T12:42:09.862966Z",
     "iopub.status.idle": "2021-03-18T12:42:09.865061Z",
     "shell.execute_reply": "2021-03-18T12:42:09.865571Z"
    },
    "papermill": {
     "duration": 0.07817,
     "end_time": "2021-03-18T12:42:09.865726",
     "exception": false,
     "start_time": "2021-03-18T12:42:09.787556",
     "status": "completed"
    },
    "tags": []
   },
   "outputs": [],
   "source": [
    "class AverageMeter(object):\n",
    "    def __init__(self):\n",
    "        self.reset()\n",
    "    \n",
    "    def reset(self):\n",
    "        self.val = 0\n",
    "        self.avg = 0\n",
    "        self.sum = 0\n",
    "        self.count = 0\n",
    "    \n",
    "    def update(self, val, n=1):\n",
    "        self.val = val\n",
    "        self.sum += val * n\n",
    "        self.count += n\n",
    "        self.avg = self.sum / self.count"
   ]
  },
  {
   "cell_type": "code",
   "execution_count": 24,
   "metadata": {
    "execution": {
     "iopub.execute_input": "2021-03-18T12:42:10.012435Z",
     "iopub.status.busy": "2021-03-18T12:42:10.011874Z",
     "iopub.status.idle": "2021-03-18T12:42:10.015664Z",
     "shell.execute_reply": "2021-03-18T12:42:10.015266Z"
    },
    "papermill": {
     "duration": 0.080426,
     "end_time": "2021-03-18T12:42:10.015768",
     "exception": false,
     "start_time": "2021-03-18T12:42:09.935342",
     "status": "completed"
    },
    "tags": []
   },
   "outputs": [],
   "source": [
    "class SiameseModel(nn.Module):\n",
    "    def __init__(self, model_name='efficientnet_b0',out_features=2,pretrained=True):\n",
    "        super().__init__()\n",
    "        self.model = timm.create_model(model_name, pretrained=pretrained)\n",
    "        n_features = self.model.classifier.in_features\n",
    "        \n",
    "        self.model.global_pool = nn.Identity()\n",
    "        self.model.classifier = nn.Identity()\n",
    "        self.pooling = nn.AdaptiveAvgPool2d(1)\n",
    "        self.classifier = nn.Sequential(nn.Linear(n_features, n_features//2),\n",
    "                                nn.ReLU(),\n",
    "                                nn.Linear(n_features//2, out_features)\n",
    "                                )\n",
    "\n",
    "    def forward(self, x):\n",
    "        bs = x.size(0)\n",
    "        output = self.model(x)\n",
    "        output = self.pooling(output).view(bs, -1)\n",
    "        \n",
    "        output = self.classifier(output)\n",
    "        return output"
   ]
  },
  {
   "cell_type": "markdown",
   "metadata": {
    "papermill": {
     "duration": 0.06989,
     "end_time": "2021-03-18T12:42:10.156926",
     "exception": false,
     "start_time": "2021-03-18T12:42:10.087036",
     "status": "completed"
    },
    "tags": []
   },
   "source": [
    "## <font color='brown' size=4>4.5 Engine</font>"
   ]
  },
  {
   "cell_type": "code",
   "execution_count": 25,
   "metadata": {
    "execution": {
     "iopub.execute_input": "2021-03-18T12:42:10.305382Z",
     "iopub.status.busy": "2021-03-18T12:42:10.304831Z",
     "iopub.status.idle": "2021-03-18T12:42:10.308712Z",
     "shell.execute_reply": "2021-03-18T12:42:10.308285Z"
    },
    "papermill": {
     "duration": 0.081371,
     "end_time": "2021-03-18T12:42:10.308821",
     "exception": false,
     "start_time": "2021-03-18T12:42:10.227450",
     "status": "completed"
    },
    "tags": []
   },
   "outputs": [],
   "source": [
    "def train_fn(dataloader,model,criterion,optimizer,device,scheduler,epoch):\n",
    "    model.train()\n",
    "    loss_score = AverageMeter()\n",
    "    \n",
    "    tk0 = tqdm(dataloader, total=len(dataloader))\n",
    "    for img_0,label in tk0:\n",
    "        \n",
    "        img_0 = img_0.to(device)\n",
    "\n",
    "        label = label.to(device)\n",
    "        \n",
    "        batch_size = img_0.shape[0]\n",
    "        \n",
    "        optimizer.zero_grad()\n",
    "        \n",
    "        output_1 = model(img_0)\n",
    "        \n",
    "        loss = criterion(output_1,label)\n",
    "        \n",
    "        loss.backward()\n",
    "        optimizer.step()\n",
    "        \n",
    "        if scheduler is not None:\n",
    "            scheduler.step()\n",
    "        \n",
    "        loss_score.update(loss.detach().item(), batch_size)\n",
    "        \n",
    "        \n",
    "        tk0.set_postfix(Train_Loss=loss_score.avg,Epoch=epoch)\n",
    "        \n",
    "    return loss_score"
   ]
  },
  {
   "cell_type": "code",
   "execution_count": 26,
   "metadata": {
    "execution": {
     "iopub.execute_input": "2021-03-18T12:42:10.459747Z",
     "iopub.status.busy": "2021-03-18T12:42:10.458411Z",
     "iopub.status.idle": "2021-03-18T12:42:10.460881Z",
     "shell.execute_reply": "2021-03-18T12:42:10.461330Z"
    },
    "papermill": {
     "duration": 0.08178,
     "end_time": "2021-03-18T12:42:10.461452",
     "exception": false,
     "start_time": "2021-03-18T12:42:10.379672",
     "status": "completed"
    },
    "tags": []
   },
   "outputs": [],
   "source": [
    "def run():\n",
    "    df=pd.read_csv('../input/shopee-product-matching/train.csv')\n",
    "    df['image_path']=df['image'].apply(lambda x: train_image_path+x)\n",
    "    df=df.sample(frac=0.5).reset_index(drop=True) #taking only sample of data\n",
    "    \n",
    "    df['label'] = le.fit_transform(df['label_group'])\n",
    "    \n",
    "    # Defining DataSet\n",
    "    train_dataset = MyDataset(df,transform=get_train_transforms())\n",
    "        \n",
    "    train_loader = torch.utils.data.DataLoader(\n",
    "        train_dataset,\n",
    "        batch_size=TRAIN_BATCH_SIZE,\n",
    "        pin_memory=True,\n",
    "        drop_last=True,\n",
    "        num_workers=NUM_WORKERS\n",
    "    )\n",
    "    \n",
    "    # Defining Device\n",
    "    device = torch.device(\"cuda\")\n",
    "    \n",
    "    # Defining Model for specific fold\n",
    "    model = SiameseModel(model_name=MODEL_NAME,out_features=128,pretrained=False)\n",
    "    model.to(device)\n",
    "    \n",
    "    #DEfining criterion - using arcface loss\n",
    "    criterion = pml_loss.ArcFaceLoss(num_classes=11014,embedding_size=128)\n",
    "\n",
    "    optimizer = torch.optim.Adam(criterion.parameters(), lr=LR)\n",
    "    #Defining LR SCheduler\n",
    "    scheduler = CosineAnnealingWarmRestarts(optimizer,T_0=T_0)\n",
    "    \n",
    "    # THE ENGINE LOOP\n",
    "    best_loss = 10000\n",
    "    for epoch in range(EPOCHS):\n",
    "        train_loss = train_fn(train_loader, model,criterion, optimizer, device,scheduler=scheduler,epoch=epoch)\n",
    "        \n",
    "        if train_loss.avg < best_loss:\n",
    "            best_loss = train_loss.avg\n",
    "            torch.save(model.state_dict(),f'model_best_loss.bin')"
   ]
  },
  {
   "cell_type": "code",
   "execution_count": 27,
   "metadata": {
    "execution": {
     "iopub.execute_input": "2021-03-18T12:42:10.610443Z",
     "iopub.status.busy": "2021-03-18T12:42:10.609661Z",
     "iopub.status.idle": "2021-03-18T12:49:12.340807Z",
     "shell.execute_reply": "2021-03-18T12:49:12.341224Z"
    },
    "papermill": {
     "duration": 421.809745,
     "end_time": "2021-03-18T12:49:12.341421",
     "exception": false,
     "start_time": "2021-03-18T12:42:10.531676",
     "status": "completed"
    },
    "tags": []
   },
   "outputs": [
    {
     "name": "stderr",
     "output_type": "stream",
     "text": [
      "100%|██████████| 1070/1070 [07:01<00:00,  2.54it/s, Epoch=0, Train_Loss=49.8]\n"
     ]
    }
   ],
   "source": [
    "run()"
   ]
  },
  {
   "cell_type": "markdown",
   "metadata": {
    "papermill": {
     "duration": 0.615431,
     "end_time": "2021-03-18T12:49:13.595588",
     "exception": false,
     "start_time": "2021-03-18T12:49:12.980157",
     "status": "completed"
    },
    "tags": []
   },
   "source": [
    "#### <b>Cheers, happy kaggling!!!</b>"
   ]
  },
  {
   "cell_type": "markdown",
   "metadata": {
    "papermill": {
     "duration": 0.605517,
     "end_time": "2021-03-18T12:49:14.807620",
     "exception": false,
     "start_time": "2021-03-18T12:49:14.202103",
     "status": "completed"
    },
    "tags": []
   },
   "source": [
    "# <font color='brown' size=4>5. Acknowledgements</font>"
   ]
  },
  {
   "cell_type": "markdown",
   "metadata": {
    "papermill": {
     "duration": 0.654071,
     "end_time": "2021-03-18T12:49:16.071238",
     "exception": false,
     "start_time": "2021-03-18T12:49:15.417167",
     "status": "completed"
    },
    "tags": []
   },
   "source": [
    "* https://www.tensorflow.org/tutorials/text/word_embeddings\n",
    "* https://www.sbert.net/docs/training/overview.html\n",
    "* https://kevinmusgrave.github.io/pytorch-metric-learning/"
   ]
  },
  {
   "cell_type": "code",
   "execution_count": null,
   "metadata": {
    "papermill": {
     "duration": 0.629453,
     "end_time": "2021-03-18T12:49:17.567789",
     "exception": false,
     "start_time": "2021-03-18T12:49:16.938336",
     "status": "completed"
    },
    "tags": []
   },
   "outputs": [],
   "source": []
  }
 ],
 "metadata": {
  "kernelspec": {
   "display_name": "Python 3",
   "language": "python",
   "name": "python3"
  },
  "language_info": {
   "codemirror_mode": {
    "name": "ipython",
    "version": 3
   },
   "file_extension": ".py",
   "mimetype": "text/x-python",
   "name": "python",
   "nbconvert_exporter": "python",
   "pygments_lexer": "ipython3",
   "version": "3.7.9"
  },
  "papermill": {
   "default_parameters": {},
   "duration": 851.310585,
   "end_time": "2021-03-18T12:49:21.774841",
   "environment_variables": {},
   "exception": null,
   "input_path": "__notebook__.ipynb",
   "output_path": "__notebook__.ipynb",
   "parameters": {},
   "start_time": "2021-03-18T12:35:10.464256",
   "version": "2.2.2"
  },
  "widgets": {
   "application/vnd.jupyter.widget-state+json": {
    "state": {
     "03b739a45fbd466db9100f826c18db98": {
      "model_module": "@jupyter-widgets/controls",
      "model_module_version": "1.5.0",
      "model_name": "ProgressStyleModel",
      "state": {
       "_model_module": "@jupyter-widgets/controls",
       "_model_module_version": "1.5.0",
       "_model_name": "ProgressStyleModel",
       "_view_count": null,
       "_view_module": "@jupyter-widgets/base",
       "_view_module_version": "1.2.0",
       "_view_name": "StyleView",
       "bar_color": null,
       "description_width": ""
      }
     },
     "049b67a5146446908677969140473a25": {
      "model_module": "@jupyter-widgets/base",
      "model_module_version": "1.2.0",
      "model_name": "LayoutModel",
      "state": {
       "_model_module": "@jupyter-widgets/base",
       "_model_module_version": "1.2.0",
       "_model_name": "LayoutModel",
       "_view_count": null,
       "_view_module": "@jupyter-widgets/base",
       "_view_module_version": "1.2.0",
       "_view_name": "LayoutView",
       "align_content": null,
       "align_items": null,
       "align_self": null,
       "border": null,
       "bottom": null,
       "display": null,
       "flex": null,
       "flex_flow": null,
       "grid_area": null,
       "grid_auto_columns": null,
       "grid_auto_flow": null,
       "grid_auto_rows": null,
       "grid_column": null,
       "grid_gap": null,
       "grid_row": null,
       "grid_template_areas": null,
       "grid_template_columns": null,
       "grid_template_rows": null,
       "height": null,
       "justify_content": null,
       "justify_items": null,
       "left": null,
       "margin": null,
       "max_height": null,
       "max_width": null,
       "min_height": null,
       "min_width": null,
       "object_fit": null,
       "object_position": null,
       "order": null,
       "overflow": null,
       "overflow_x": null,
       "overflow_y": null,
       "padding": null,
       "right": null,
       "top": null,
       "visibility": null,
       "width": null
      }
     },
     "09181dff4e664be7a818fd7b70c60bda": {
      "model_module": "@jupyter-widgets/controls",
      "model_module_version": "1.5.0",
      "model_name": "FloatProgressModel",
      "state": {
       "_dom_classes": [],
       "_model_module": "@jupyter-widgets/controls",
       "_model_module_version": "1.5.0",
       "_model_name": "FloatProgressModel",
       "_view_count": null,
       "_view_module": "@jupyter-widgets/controls",
       "_view_module_version": "1.5.0",
       "_view_name": "ProgressView",
       "bar_style": "success",
       "description": "",
       "description_tooltip": null,
       "layout": "IPY_MODEL_98d9a072c0e14b6daab95aec2b5440b6",
       "max": 466062.0,
       "min": 0.0,
       "orientation": "horizontal",
       "style": "IPY_MODEL_03b739a45fbd466db9100f826c18db98",
       "value": 466062.0
      }
     },
     "0986f1089e134f328506ace83bb77310": {
      "model_module": "@jupyter-widgets/base",
      "model_module_version": "1.2.0",
      "model_name": "LayoutModel",
      "state": {
       "_model_module": "@jupyter-widgets/base",
       "_model_module_version": "1.2.0",
       "_model_name": "LayoutModel",
       "_view_count": null,
       "_view_module": "@jupyter-widgets/base",
       "_view_module_version": "1.2.0",
       "_view_name": "LayoutView",
       "align_content": null,
       "align_items": null,
       "align_self": null,
       "border": null,
       "bottom": null,
       "display": null,
       "flex": null,
       "flex_flow": null,
       "grid_area": null,
       "grid_auto_columns": null,
       "grid_auto_flow": null,
       "grid_auto_rows": null,
       "grid_column": null,
       "grid_gap": null,
       "grid_row": null,
       "grid_template_areas": null,
       "grid_template_columns": null,
       "grid_template_rows": null,
       "height": null,
       "justify_content": null,
       "justify_items": null,
       "left": null,
       "margin": null,
       "max_height": null,
       "max_width": null,
       "min_height": null,
       "min_width": null,
       "object_fit": null,
       "object_position": null,
       "order": null,
       "overflow": null,
       "overflow_x": null,
       "overflow_y": null,
       "padding": null,
       "right": null,
       "top": null,
       "visibility": null,
       "width": null
      }
     },
     "0c9d7345f42f4f0c8a1951c70899d686": {
      "model_module": "@jupyter-widgets/controls",
      "model_module_version": "1.5.0",
      "model_name": "HBoxModel",
      "state": {
       "_dom_classes": [],
       "_model_module": "@jupyter-widgets/controls",
       "_model_module_version": "1.5.0",
       "_model_name": "HBoxModel",
       "_view_count": null,
       "_view_module": "@jupyter-widgets/controls",
       "_view_module_version": "1.5.0",
       "_view_name": "HBoxView",
       "box_style": "",
       "children": [
        "IPY_MODEL_0dcd5d0370c2487c91929ddea11051de",
        "IPY_MODEL_e7381a0ba4dc4f83bea44e2376c64f0b",
        "IPY_MODEL_b286cb189a6b4944b5ce87fb61e9174f"
       ],
       "layout": "IPY_MODEL_049b67a5146446908677969140473a25"
      }
     },
     "0dcd5d0370c2487c91929ddea11051de": {
      "model_module": "@jupyter-widgets/controls",
      "model_module_version": "1.5.0",
      "model_name": "HTMLModel",
      "state": {
       "_dom_classes": [],
       "_model_module": "@jupyter-widgets/controls",
       "_model_module_version": "1.5.0",
       "_model_name": "HTMLModel",
       "_view_count": null,
       "_view_module": "@jupyter-widgets/controls",
       "_view_module_version": "1.5.0",
       "_view_name": "HTMLView",
       "description": "",
       "description_tooltip": null,
       "layout": "IPY_MODEL_ad117dac608b485dbf5d6976afd08103",
       "placeholder": "​",
       "style": "IPY_MODEL_ff524736bd3141a28ee5ce61b241f1f0",
       "value": "Downloading: 100%"
      }
     },
     "1621fe92c9274433b888e862cd261f90": {
      "model_module": "@jupyter-widgets/controls",
      "model_module_version": "1.5.0",
      "model_name": "HTMLModel",
      "state": {
       "_dom_classes": [],
       "_model_module": "@jupyter-widgets/controls",
       "_model_module_version": "1.5.0",
       "_model_name": "HTMLModel",
       "_view_count": null,
       "_view_module": "@jupyter-widgets/controls",
       "_view_module_version": "1.5.0",
       "_view_name": "HTMLView",
       "description": "",
       "description_tooltip": null,
       "layout": "IPY_MODEL_27d880b60c4843e3ab014dc8f0ed0c74",
       "placeholder": "​",
       "style": "IPY_MODEL_639d3cfc440642a7a9b64ac38728ef13",
       "value": "Downloading: 100%"
      }
     },
     "19ca6461aca94a92a3dadbb9786a49bb": {
      "model_module": "@jupyter-widgets/controls",
      "model_module_version": "1.5.0",
      "model_name": "HTMLModel",
      "state": {
       "_dom_classes": [],
       "_model_module": "@jupyter-widgets/controls",
       "_model_module_version": "1.5.0",
       "_model_name": "HTMLModel",
       "_view_count": null,
       "_view_module": "@jupyter-widgets/controls",
       "_view_module_version": "1.5.0",
       "_view_name": "HTMLView",
       "description": "",
       "description_tooltip": null,
       "layout": "IPY_MODEL_71d2b21ea0e5455099e4de7b8dc1733a",
       "placeholder": "​",
       "style": "IPY_MODEL_787fefc9a8d64508a5fe905a51b52fe6",
       "value": "100%"
      }
     },
     "1a4a288dd15042b18b03ab90e6f3c534": {
      "model_module": "@jupyter-widgets/controls",
      "model_module_version": "1.5.0",
      "model_name": "DescriptionStyleModel",
      "state": {
       "_model_module": "@jupyter-widgets/controls",
       "_model_module_version": "1.5.0",
       "_model_name": "DescriptionStyleModel",
       "_view_count": null,
       "_view_module": "@jupyter-widgets/base",
       "_view_module_version": "1.2.0",
       "_view_name": "StyleView",
       "description_width": ""
      }
     },
     "1a7dac54a829421787948d09a99b18ad": {
      "model_module": "@jupyter-widgets/controls",
      "model_module_version": "1.5.0",
      "model_name": "DescriptionStyleModel",
      "state": {
       "_model_module": "@jupyter-widgets/controls",
       "_model_module_version": "1.5.0",
       "_model_name": "DescriptionStyleModel",
       "_view_count": null,
       "_view_module": "@jupyter-widgets/base",
       "_view_module_version": "1.2.0",
       "_view_name": "StyleView",
       "description_width": ""
      }
     },
     "22d544819f7e4abd911eaca44d567ee9": {
      "model_module": "@jupyter-widgets/controls",
      "model_module_version": "1.5.0",
      "model_name": "HTMLModel",
      "state": {
       "_dom_classes": [],
       "_model_module": "@jupyter-widgets/controls",
       "_model_module_version": "1.5.0",
       "_model_name": "HTMLModel",
       "_view_count": null,
       "_view_module": "@jupyter-widgets/controls",
       "_view_module_version": "1.5.0",
       "_view_name": "HTMLView",
       "description": "",
       "description_tooltip": null,
       "layout": "IPY_MODEL_0986f1089e134f328506ace83bb77310",
       "placeholder": "​",
       "style": "IPY_MODEL_417112c879da4aaba0a32a731bda743b",
       "value": "Iteration: 100%"
      }
     },
     "230149111be3409190959d17e6d924a5": {
      "model_module": "@jupyter-widgets/base",
      "model_module_version": "1.2.0",
      "model_name": "LayoutModel",
      "state": {
       "_model_module": "@jupyter-widgets/base",
       "_model_module_version": "1.2.0",
       "_model_name": "LayoutModel",
       "_view_count": null,
       "_view_module": "@jupyter-widgets/base",
       "_view_module_version": "1.2.0",
       "_view_name": "LayoutView",
       "align_content": null,
       "align_items": null,
       "align_self": null,
       "border": null,
       "bottom": null,
       "display": null,
       "flex": null,
       "flex_flow": null,
       "grid_area": null,
       "grid_auto_columns": null,
       "grid_auto_flow": null,
       "grid_auto_rows": null,
       "grid_column": null,
       "grid_gap": null,
       "grid_row": null,
       "grid_template_areas": null,
       "grid_template_columns": null,
       "grid_template_rows": null,
       "height": null,
       "justify_content": null,
       "justify_items": null,
       "left": null,
       "margin": null,
       "max_height": null,
       "max_width": null,
       "min_height": null,
       "min_width": null,
       "object_fit": null,
       "object_position": null,
       "order": null,
       "overflow": null,
       "overflow_x": null,
       "overflow_y": null,
       "padding": null,
       "right": null,
       "top": null,
       "visibility": null,
       "width": null
      }
     },
     "237bdfe2507042eb97b2fe43c9d3d4b2": {
      "model_module": "@jupyter-widgets/controls",
      "model_module_version": "1.5.0",
      "model_name": "HBoxModel",
      "state": {
       "_dom_classes": [],
       "_model_module": "@jupyter-widgets/controls",
       "_model_module_version": "1.5.0",
       "_model_name": "HBoxModel",
       "_view_count": null,
       "_view_module": "@jupyter-widgets/controls",
       "_view_module_version": "1.5.0",
       "_view_name": "HBoxView",
       "box_style": "",
       "children": [
        "IPY_MODEL_22d544819f7e4abd911eaca44d567ee9",
        "IPY_MODEL_cdaa452bed5a4e09a4016e651722f4d3",
        "IPY_MODEL_7a27d3e034764014b78d43cff1e28582"
       ],
       "layout": "IPY_MODEL_4a3c156a55ac49998bcb2d9cc7c4e008"
      }
     },
     "24fe0e4392394eb1af6c7aa85b89aec7": {
      "model_module": "@jupyter-widgets/controls",
      "model_module_version": "1.5.0",
      "model_name": "DescriptionStyleModel",
      "state": {
       "_model_module": "@jupyter-widgets/controls",
       "_model_module_version": "1.5.0",
       "_model_name": "DescriptionStyleModel",
       "_view_count": null,
       "_view_module": "@jupyter-widgets/base",
       "_view_module_version": "1.2.0",
       "_view_name": "StyleView",
       "description_width": ""
      }
     },
     "27d880b60c4843e3ab014dc8f0ed0c74": {
      "model_module": "@jupyter-widgets/base",
      "model_module_version": "1.2.0",
      "model_name": "LayoutModel",
      "state": {
       "_model_module": "@jupyter-widgets/base",
       "_model_module_version": "1.2.0",
       "_model_name": "LayoutModel",
       "_view_count": null,
       "_view_module": "@jupyter-widgets/base",
       "_view_module_version": "1.2.0",
       "_view_name": "LayoutView",
       "align_content": null,
       "align_items": null,
       "align_self": null,
       "border": null,
       "bottom": null,
       "display": null,
       "flex": null,
       "flex_flow": null,
       "grid_area": null,
       "grid_auto_columns": null,
       "grid_auto_flow": null,
       "grid_auto_rows": null,
       "grid_column": null,
       "grid_gap": null,
       "grid_row": null,
       "grid_template_areas": null,
       "grid_template_columns": null,
       "grid_template_rows": null,
       "height": null,
       "justify_content": null,
       "justify_items": null,
       "left": null,
       "margin": null,
       "max_height": null,
       "max_width": null,
       "min_height": null,
       "min_width": null,
       "object_fit": null,
       "object_position": null,
       "order": null,
       "overflow": null,
       "overflow_x": null,
       "overflow_y": null,
       "padding": null,
       "right": null,
       "top": null,
       "visibility": null,
       "width": null
      }
     },
     "28853fbe6398449797381f61fb4ed6b4": {
      "model_module": "@jupyter-widgets/controls",
      "model_module_version": "1.5.0",
      "model_name": "HBoxModel",
      "state": {
       "_dom_classes": [],
       "_model_module": "@jupyter-widgets/controls",
       "_model_module_version": "1.5.0",
       "_model_name": "HBoxModel",
       "_view_count": null,
       "_view_module": "@jupyter-widgets/controls",
       "_view_module_version": "1.5.0",
       "_view_name": "HBoxView",
       "box_style": "",
       "children": [
        "IPY_MODEL_1621fe92c9274433b888e862cd261f90",
        "IPY_MODEL_bc885cbe7b3d4fca8e13352db5025c94",
        "IPY_MODEL_e045cbbc18cf480d829b9a4b4f2a52d4"
       ],
       "layout": "IPY_MODEL_e833fa9af1874f68abb71d628592dc25"
      }
     },
     "3004eba17e384ad9bc8e8b03b3711ec9": {
      "model_module": "@jupyter-widgets/controls",
      "model_module_version": "1.5.0",
      "model_name": "HTMLModel",
      "state": {
       "_dom_classes": [],
       "_model_module": "@jupyter-widgets/controls",
       "_model_module_version": "1.5.0",
       "_model_name": "HTMLModel",
       "_view_count": null,
       "_view_module": "@jupyter-widgets/controls",
       "_view_module_version": "1.5.0",
       "_view_name": "HTMLView",
       "description": "",
       "description_tooltip": null,
       "layout": "IPY_MODEL_eefe81abfeed4ee99bd576540bbf2d4d",
       "placeholder": "​",
       "style": "IPY_MODEL_24fe0e4392394eb1af6c7aa85b89aec7",
       "value": " 466k/466k [00:00&lt;00:00, 561kB/s]"
      }
     },
     "321c618c617b43eda444accd5ac011dd": {
      "model_module": "@jupyter-widgets/base",
      "model_module_version": "1.2.0",
      "model_name": "LayoutModel",
      "state": {
       "_model_module": "@jupyter-widgets/base",
       "_model_module_version": "1.2.0",
       "_model_name": "LayoutModel",
       "_view_count": null,
       "_view_module": "@jupyter-widgets/base",
       "_view_module_version": "1.2.0",
       "_view_name": "LayoutView",
       "align_content": null,
       "align_items": null,
       "align_self": null,
       "border": null,
       "bottom": null,
       "display": null,
       "flex": null,
       "flex_flow": null,
       "grid_area": null,
       "grid_auto_columns": null,
       "grid_auto_flow": null,
       "grid_auto_rows": null,
       "grid_column": null,
       "grid_gap": null,
       "grid_row": null,
       "grid_template_areas": null,
       "grid_template_columns": null,
       "grid_template_rows": null,
       "height": null,
       "justify_content": null,
       "justify_items": null,
       "left": null,
       "margin": null,
       "max_height": null,
       "max_width": null,
       "min_height": null,
       "min_width": null,
       "object_fit": null,
       "object_position": null,
       "order": null,
       "overflow": null,
       "overflow_x": null,
       "overflow_y": null,
       "padding": null,
       "right": null,
       "top": null,
       "visibility": null,
       "width": null
      }
     },
     "3494435ee11a45869a51eecd6d06b0d3": {
      "model_module": "@jupyter-widgets/controls",
      "model_module_version": "1.5.0",
      "model_name": "ProgressStyleModel",
      "state": {
       "_model_module": "@jupyter-widgets/controls",
       "_model_module_version": "1.5.0",
       "_model_name": "ProgressStyleModel",
       "_view_count": null,
       "_view_module": "@jupyter-widgets/base",
       "_view_module_version": "1.2.0",
       "_view_name": "StyleView",
       "bar_color": null,
       "description_width": ""
      }
     },
     "37dae8d75b1a4aa79ef65120e5c1cb05": {
      "model_module": "@jupyter-widgets/controls",
      "model_module_version": "1.5.0",
      "model_name": "DescriptionStyleModel",
      "state": {
       "_model_module": "@jupyter-widgets/controls",
       "_model_module_version": "1.5.0",
       "_model_name": "DescriptionStyleModel",
       "_view_count": null,
       "_view_module": "@jupyter-widgets/base",
       "_view_module_version": "1.2.0",
       "_view_name": "StyleView",
       "description_width": ""
      }
     },
     "38b76e8a5814444695410c6878b6ea37": {
      "model_module": "@jupyter-widgets/base",
      "model_module_version": "1.2.0",
      "model_name": "LayoutModel",
      "state": {
       "_model_module": "@jupyter-widgets/base",
       "_model_module_version": "1.2.0",
       "_model_name": "LayoutModel",
       "_view_count": null,
       "_view_module": "@jupyter-widgets/base",
       "_view_module_version": "1.2.0",
       "_view_name": "LayoutView",
       "align_content": null,
       "align_items": null,
       "align_self": null,
       "border": null,
       "bottom": null,
       "display": null,
       "flex": null,
       "flex_flow": null,
       "grid_area": null,
       "grid_auto_columns": null,
       "grid_auto_flow": null,
       "grid_auto_rows": null,
       "grid_column": null,
       "grid_gap": null,
       "grid_row": null,
       "grid_template_areas": null,
       "grid_template_columns": null,
       "grid_template_rows": null,
       "height": null,
       "justify_content": null,
       "justify_items": null,
       "left": null,
       "margin": null,
       "max_height": null,
       "max_width": null,
       "min_height": null,
       "min_width": null,
       "object_fit": null,
       "object_position": null,
       "order": null,
       "overflow": null,
       "overflow_x": null,
       "overflow_y": null,
       "padding": null,
       "right": null,
       "top": null,
       "visibility": null,
       "width": null
      }
     },
     "40b6a5cfc4d54291a3b65b4f9ee6065d": {
      "model_module": "@jupyter-widgets/base",
      "model_module_version": "1.2.0",
      "model_name": "LayoutModel",
      "state": {
       "_model_module": "@jupyter-widgets/base",
       "_model_module_version": "1.2.0",
       "_model_name": "LayoutModel",
       "_view_count": null,
       "_view_module": "@jupyter-widgets/base",
       "_view_module_version": "1.2.0",
       "_view_name": "LayoutView",
       "align_content": null,
       "align_items": null,
       "align_self": null,
       "border": null,
       "bottom": null,
       "display": null,
       "flex": null,
       "flex_flow": null,
       "grid_area": null,
       "grid_auto_columns": null,
       "grid_auto_flow": null,
       "grid_auto_rows": null,
       "grid_column": null,
       "grid_gap": null,
       "grid_row": null,
       "grid_template_areas": null,
       "grid_template_columns": null,
       "grid_template_rows": null,
       "height": null,
       "justify_content": null,
       "justify_items": null,
       "left": null,
       "margin": null,
       "max_height": null,
       "max_width": null,
       "min_height": null,
       "min_width": null,
       "object_fit": null,
       "object_position": null,
       "order": null,
       "overflow": null,
       "overflow_x": null,
       "overflow_y": null,
       "padding": null,
       "right": null,
       "top": null,
       "visibility": null,
       "width": null
      }
     },
     "417112c879da4aaba0a32a731bda743b": {
      "model_module": "@jupyter-widgets/controls",
      "model_module_version": "1.5.0",
      "model_name": "DescriptionStyleModel",
      "state": {
       "_model_module": "@jupyter-widgets/controls",
       "_model_module_version": "1.5.0",
       "_model_name": "DescriptionStyleModel",
       "_view_count": null,
       "_view_module": "@jupyter-widgets/base",
       "_view_module_version": "1.2.0",
       "_view_name": "StyleView",
       "description_width": ""
      }
     },
     "47ff2ac9c1ee4f0fb1d255ee7fef39da": {
      "model_module": "@jupyter-widgets/controls",
      "model_module_version": "1.5.0",
      "model_name": "ProgressStyleModel",
      "state": {
       "_model_module": "@jupyter-widgets/controls",
       "_model_module_version": "1.5.0",
       "_model_name": "ProgressStyleModel",
       "_view_count": null,
       "_view_module": "@jupyter-widgets/base",
       "_view_module_version": "1.2.0",
       "_view_name": "StyleView",
       "bar_color": null,
       "description_width": ""
      }
     },
     "48579eb8707444759a2227410a90a7f1": {
      "model_module": "@jupyter-widgets/base",
      "model_module_version": "1.2.0",
      "model_name": "LayoutModel",
      "state": {
       "_model_module": "@jupyter-widgets/base",
       "_model_module_version": "1.2.0",
       "_model_name": "LayoutModel",
       "_view_count": null,
       "_view_module": "@jupyter-widgets/base",
       "_view_module_version": "1.2.0",
       "_view_name": "LayoutView",
       "align_content": null,
       "align_items": null,
       "align_self": null,
       "border": null,
       "bottom": null,
       "display": null,
       "flex": null,
       "flex_flow": null,
       "grid_area": null,
       "grid_auto_columns": null,
       "grid_auto_flow": null,
       "grid_auto_rows": null,
       "grid_column": null,
       "grid_gap": null,
       "grid_row": null,
       "grid_template_areas": null,
       "grid_template_columns": null,
       "grid_template_rows": null,
       "height": null,
       "justify_content": null,
       "justify_items": null,
       "left": null,
       "margin": null,
       "max_height": null,
       "max_width": null,
       "min_height": null,
       "min_width": null,
       "object_fit": null,
       "object_position": null,
       "order": null,
       "overflow": null,
       "overflow_x": null,
       "overflow_y": null,
       "padding": null,
       "right": null,
       "top": null,
       "visibility": null,
       "width": null
      }
     },
     "4a3c156a55ac49998bcb2d9cc7c4e008": {
      "model_module": "@jupyter-widgets/base",
      "model_module_version": "1.2.0",
      "model_name": "LayoutModel",
      "state": {
       "_model_module": "@jupyter-widgets/base",
       "_model_module_version": "1.2.0",
       "_model_name": "LayoutModel",
       "_view_count": null,
       "_view_module": "@jupyter-widgets/base",
       "_view_module_version": "1.2.0",
       "_view_name": "LayoutView",
       "align_content": null,
       "align_items": null,
       "align_self": null,
       "border": null,
       "bottom": null,
       "display": null,
       "flex": null,
       "flex_flow": null,
       "grid_area": null,
       "grid_auto_columns": null,
       "grid_auto_flow": null,
       "grid_auto_rows": null,
       "grid_column": null,
       "grid_gap": null,
       "grid_row": null,
       "grid_template_areas": null,
       "grid_template_columns": null,
       "grid_template_rows": null,
       "height": null,
       "justify_content": null,
       "justify_items": null,
       "left": null,
       "margin": null,
       "max_height": null,
       "max_width": null,
       "min_height": null,
       "min_width": null,
       "object_fit": null,
       "object_position": null,
       "order": null,
       "overflow": null,
       "overflow_x": null,
       "overflow_y": null,
       "padding": null,
       "right": null,
       "top": null,
       "visibility": null,
       "width": null
      }
     },
     "515ed89b12dd4b14b5aaba4e1276e54c": {
      "model_module": "@jupyter-widgets/controls",
      "model_module_version": "1.5.0",
      "model_name": "ProgressStyleModel",
      "state": {
       "_model_module": "@jupyter-widgets/controls",
       "_model_module_version": "1.5.0",
       "_model_name": "ProgressStyleModel",
       "_view_count": null,
       "_view_module": "@jupyter-widgets/base",
       "_view_module_version": "1.2.0",
       "_view_name": "StyleView",
       "bar_color": null,
       "description_width": ""
      }
     },
     "54d100e26b8e440bbbbd78133a645e5a": {
      "model_module": "@jupyter-widgets/base",
      "model_module_version": "1.2.0",
      "model_name": "LayoutModel",
      "state": {
       "_model_module": "@jupyter-widgets/base",
       "_model_module_version": "1.2.0",
       "_model_name": "LayoutModel",
       "_view_count": null,
       "_view_module": "@jupyter-widgets/base",
       "_view_module_version": "1.2.0",
       "_view_name": "LayoutView",
       "align_content": null,
       "align_items": null,
       "align_self": null,
       "border": null,
       "bottom": null,
       "display": null,
       "flex": null,
       "flex_flow": null,
       "grid_area": null,
       "grid_auto_columns": null,
       "grid_auto_flow": null,
       "grid_auto_rows": null,
       "grid_column": null,
       "grid_gap": null,
       "grid_row": null,
       "grid_template_areas": null,
       "grid_template_columns": null,
       "grid_template_rows": null,
       "height": null,
       "justify_content": null,
       "justify_items": null,
       "left": null,
       "margin": null,
       "max_height": null,
       "max_width": null,
       "min_height": null,
       "min_width": null,
       "object_fit": null,
       "object_position": null,
       "order": null,
       "overflow": null,
       "overflow_x": null,
       "overflow_y": null,
       "padding": null,
       "right": null,
       "top": null,
       "visibility": null,
       "width": null
      }
     },
     "5607599808f14ad7b65de4fb985d1407": {
      "model_module": "@jupyter-widgets/controls",
      "model_module_version": "1.5.0",
      "model_name": "DescriptionStyleModel",
      "state": {
       "_model_module": "@jupyter-widgets/controls",
       "_model_module_version": "1.5.0",
       "_model_name": "DescriptionStyleModel",
       "_view_count": null,
       "_view_module": "@jupyter-widgets/base",
       "_view_module_version": "1.2.0",
       "_view_name": "StyleView",
       "description_width": ""
      }
     },
     "57a83627aafe48ad97730e1764cd5ce8": {
      "model_module": "@jupyter-widgets/controls",
      "model_module_version": "1.5.0",
      "model_name": "DescriptionStyleModel",
      "state": {
       "_model_module": "@jupyter-widgets/controls",
       "_model_module_version": "1.5.0",
       "_model_name": "DescriptionStyleModel",
       "_view_count": null,
       "_view_module": "@jupyter-widgets/base",
       "_view_module_version": "1.2.0",
       "_view_name": "StyleView",
       "description_width": ""
      }
     },
     "59c25dda197b424f93ddaac43678c1bc": {
      "model_module": "@jupyter-widgets/base",
      "model_module_version": "1.2.0",
      "model_name": "LayoutModel",
      "state": {
       "_model_module": "@jupyter-widgets/base",
       "_model_module_version": "1.2.0",
       "_model_name": "LayoutModel",
       "_view_count": null,
       "_view_module": "@jupyter-widgets/base",
       "_view_module_version": "1.2.0",
       "_view_name": "LayoutView",
       "align_content": null,
       "align_items": null,
       "align_self": null,
       "border": null,
       "bottom": null,
       "display": null,
       "flex": null,
       "flex_flow": null,
       "grid_area": null,
       "grid_auto_columns": null,
       "grid_auto_flow": null,
       "grid_auto_rows": null,
       "grid_column": null,
       "grid_gap": null,
       "grid_row": null,
       "grid_template_areas": null,
       "grid_template_columns": null,
       "grid_template_rows": null,
       "height": null,
       "justify_content": null,
       "justify_items": null,
       "left": null,
       "margin": null,
       "max_height": null,
       "max_width": null,
       "min_height": null,
       "min_width": null,
       "object_fit": null,
       "object_position": null,
       "order": null,
       "overflow": null,
       "overflow_x": null,
       "overflow_y": null,
       "padding": null,
       "right": null,
       "top": null,
       "visibility": null,
       "width": null
      }
     },
     "5d1eeffc6c3c4e328e571d0199367d52": {
      "model_module": "@jupyter-widgets/controls",
      "model_module_version": "1.5.0",
      "model_name": "ProgressStyleModel",
      "state": {
       "_model_module": "@jupyter-widgets/controls",
       "_model_module_version": "1.5.0",
       "_model_name": "ProgressStyleModel",
       "_view_count": null,
       "_view_module": "@jupyter-widgets/base",
       "_view_module_version": "1.2.0",
       "_view_name": "StyleView",
       "bar_color": null,
       "description_width": ""
      }
     },
     "639d3cfc440642a7a9b64ac38728ef13": {
      "model_module": "@jupyter-widgets/controls",
      "model_module_version": "1.5.0",
      "model_name": "DescriptionStyleModel",
      "state": {
       "_model_module": "@jupyter-widgets/controls",
       "_model_module_version": "1.5.0",
       "_model_name": "DescriptionStyleModel",
       "_view_count": null,
       "_view_module": "@jupyter-widgets/base",
       "_view_module_version": "1.2.0",
       "_view_name": "StyleView",
       "description_width": ""
      }
     },
     "639e9b234cab4492af6d3fd3f16b0299": {
      "model_module": "@jupyter-widgets/controls",
      "model_module_version": "1.5.0",
      "model_name": "HTMLModel",
      "state": {
       "_dom_classes": [],
       "_model_module": "@jupyter-widgets/controls",
       "_model_module_version": "1.5.0",
       "_model_name": "HTMLModel",
       "_view_count": null,
       "_view_module": "@jupyter-widgets/controls",
       "_view_module_version": "1.5.0",
       "_view_name": "HTMLView",
       "description": "",
       "description_tooltip": null,
       "layout": "IPY_MODEL_54d100e26b8e440bbbbd78133a645e5a",
       "placeholder": "​",
       "style": "IPY_MODEL_37dae8d75b1a4aa79ef65120e5c1cb05",
       "value": " 44.7M/44.7M [00:00&lt;00:00, 142MB/s]"
      }
     },
     "71d2b21ea0e5455099e4de7b8dc1733a": {
      "model_module": "@jupyter-widgets/base",
      "model_module_version": "1.2.0",
      "model_name": "LayoutModel",
      "state": {
       "_model_module": "@jupyter-widgets/base",
       "_model_module_version": "1.2.0",
       "_model_name": "LayoutModel",
       "_view_count": null,
       "_view_module": "@jupyter-widgets/base",
       "_view_module_version": "1.2.0",
       "_view_name": "LayoutView",
       "align_content": null,
       "align_items": null,
       "align_self": null,
       "border": null,
       "bottom": null,
       "display": null,
       "flex": null,
       "flex_flow": null,
       "grid_area": null,
       "grid_auto_columns": null,
       "grid_auto_flow": null,
       "grid_auto_rows": null,
       "grid_column": null,
       "grid_gap": null,
       "grid_row": null,
       "grid_template_areas": null,
       "grid_template_columns": null,
       "grid_template_rows": null,
       "height": null,
       "justify_content": null,
       "justify_items": null,
       "left": null,
       "margin": null,
       "max_height": null,
       "max_width": null,
       "min_height": null,
       "min_width": null,
       "object_fit": null,
       "object_position": null,
       "order": null,
       "overflow": null,
       "overflow_x": null,
       "overflow_y": null,
       "padding": null,
       "right": null,
       "top": null,
       "visibility": null,
       "width": null
      }
     },
     "7360056ea12b4f38bd7d64a3f808daff": {
      "model_module": "@jupyter-widgets/controls",
      "model_module_version": "1.5.0",
      "model_name": "HBoxModel",
      "state": {
       "_dom_classes": [],
       "_model_module": "@jupyter-widgets/controls",
       "_model_module_version": "1.5.0",
       "_model_name": "HBoxModel",
       "_view_count": null,
       "_view_module": "@jupyter-widgets/controls",
       "_view_module_version": "1.5.0",
       "_view_name": "HBoxView",
       "box_style": "",
       "children": [
        "IPY_MODEL_79e3c67c2a184f11b0ac9eacf2949b8c",
        "IPY_MODEL_7d91fce52ad94b518c06f47980b6dc36",
        "IPY_MODEL_834be8589e8a461693d3f56579412631"
       ],
       "layout": "IPY_MODEL_230149111be3409190959d17e6d924a5"
      }
     },
     "787fefc9a8d64508a5fe905a51b52fe6": {
      "model_module": "@jupyter-widgets/controls",
      "model_module_version": "1.5.0",
      "model_name": "DescriptionStyleModel",
      "state": {
       "_model_module": "@jupyter-widgets/controls",
       "_model_module_version": "1.5.0",
       "_model_name": "DescriptionStyleModel",
       "_view_count": null,
       "_view_module": "@jupyter-widgets/base",
       "_view_module_version": "1.2.0",
       "_view_name": "StyleView",
       "description_width": ""
      }
     },
     "794c62f9a3154ba28329dfca2749bede": {
      "model_module": "@jupyter-widgets/controls",
      "model_module_version": "1.5.0",
      "model_name": "HTMLModel",
      "state": {
       "_dom_classes": [],
       "_model_module": "@jupyter-widgets/controls",
       "_model_module_version": "1.5.0",
       "_model_name": "HTMLModel",
       "_view_count": null,
       "_view_module": "@jupyter-widgets/controls",
       "_view_module_version": "1.5.0",
       "_view_name": "HTMLView",
       "description": "",
       "description_tooltip": null,
       "layout": "IPY_MODEL_cabeb5f1c246441f8cc4ef5cc98d2652",
       "placeholder": "​",
       "style": "IPY_MODEL_af8b83096c6443bbb2a151a775c6776a",
       "value": " 1/1 [04:34&lt;00:00, 274.45s/it]"
      }
     },
     "79e3c67c2a184f11b0ac9eacf2949b8c": {
      "model_module": "@jupyter-widgets/controls",
      "model_module_version": "1.5.0",
      "model_name": "HTMLModel",
      "state": {
       "_dom_classes": [],
       "_model_module": "@jupyter-widgets/controls",
       "_model_module_version": "1.5.0",
       "_model_name": "HTMLModel",
       "_view_count": null,
       "_view_module": "@jupyter-widgets/controls",
       "_view_module_version": "1.5.0",
       "_view_name": "HTMLView",
       "description": "",
       "description_tooltip": null,
       "layout": "IPY_MODEL_82d24d37855e48ce84c0d3ecccd34241",
       "placeholder": "​",
       "style": "IPY_MODEL_e437fb7f113e43aba0bacda2b0a6d1e4",
       "value": "Downloading: 100%"
      }
     },
     "7a27d3e034764014b78d43cff1e28582": {
      "model_module": "@jupyter-widgets/controls",
      "model_module_version": "1.5.0",
      "model_name": "HTMLModel",
      "state": {
       "_dom_classes": [],
       "_model_module": "@jupyter-widgets/controls",
       "_model_module_version": "1.5.0",
       "_model_name": "HTMLModel",
       "_view_count": null,
       "_view_module": "@jupyter-widgets/controls",
       "_view_module_version": "1.5.0",
       "_view_name": "HTMLView",
       "description": "",
       "description_tooltip": null,
       "layout": "IPY_MODEL_91c739d5c7f7447aa6f2e6160ed36850",
       "placeholder": "​",
       "style": "IPY_MODEL_e6c7c4e30f2f44fd9090c5947e5dbc13",
       "value": " 1393/1393 [04:20&lt;00:00,  5.60it/s]"
      }
     },
     "7b76fe2c7fa7457a8baef603d8d8abfc": {
      "model_module": "@jupyter-widgets/controls",
      "model_module_version": "1.5.0",
      "model_name": "HBoxModel",
      "state": {
       "_dom_classes": [],
       "_model_module": "@jupyter-widgets/controls",
       "_model_module_version": "1.5.0",
       "_model_name": "HBoxModel",
       "_view_count": null,
       "_view_module": "@jupyter-widgets/controls",
       "_view_module_version": "1.5.0",
       "_view_name": "HBoxView",
       "box_style": "",
       "children": [
        "IPY_MODEL_86974823770e4481a43c5a08ba50d62c",
        "IPY_MODEL_bae0f8d44b7b43a59f99791761201a2c",
        "IPY_MODEL_794c62f9a3154ba28329dfca2749bede"
       ],
       "layout": "IPY_MODEL_38b76e8a5814444695410c6878b6ea37"
      }
     },
     "7d91fce52ad94b518c06f47980b6dc36": {
      "model_module": "@jupyter-widgets/controls",
      "model_module_version": "1.5.0",
      "model_name": "FloatProgressModel",
      "state": {
       "_dom_classes": [],
       "_model_module": "@jupyter-widgets/controls",
       "_model_module_version": "1.5.0",
       "_model_name": "FloatProgressModel",
       "_view_count": null,
       "_view_module": "@jupyter-widgets/controls",
       "_view_module_version": "1.5.0",
       "_view_name": "ProgressView",
       "bar_style": "success",
       "description": "",
       "description_tooltip": null,
       "layout": "IPY_MODEL_bebf93347dd344b8a2d19a93f9d13e94",
       "max": 231508.0,
       "min": 0.0,
       "orientation": "horizontal",
       "style": "IPY_MODEL_3494435ee11a45869a51eecd6d06b0d3",
       "value": 231508.0
      }
     },
     "800cada328eb4fdea8c7724e5c9521b3": {
      "model_module": "@jupyter-widgets/controls",
      "model_module_version": "1.5.0",
      "model_name": "HBoxModel",
      "state": {
       "_dom_classes": [],
       "_model_module": "@jupyter-widgets/controls",
       "_model_module_version": "1.5.0",
       "_model_name": "HBoxModel",
       "_view_count": null,
       "_view_module": "@jupyter-widgets/controls",
       "_view_module_version": "1.5.0",
       "_view_name": "HBoxView",
       "box_style": "",
       "children": [
        "IPY_MODEL_19ca6461aca94a92a3dadbb9786a49bb",
        "IPY_MODEL_cca47d1b89ca4eb6859511588b8704f5",
        "IPY_MODEL_639e9b234cab4492af6d3fd3f16b0299"
       ],
       "layout": "IPY_MODEL_321c618c617b43eda444accd5ac011dd"
      }
     },
     "81a841243a42422dbcb7832b7a8390d5": {
      "model_module": "@jupyter-widgets/base",
      "model_module_version": "1.2.0",
      "model_name": "LayoutModel",
      "state": {
       "_model_module": "@jupyter-widgets/base",
       "_model_module_version": "1.2.0",
       "_model_name": "LayoutModel",
       "_view_count": null,
       "_view_module": "@jupyter-widgets/base",
       "_view_module_version": "1.2.0",
       "_view_name": "LayoutView",
       "align_content": null,
       "align_items": null,
       "align_self": null,
       "border": null,
       "bottom": null,
       "display": null,
       "flex": null,
       "flex_flow": null,
       "grid_area": null,
       "grid_auto_columns": null,
       "grid_auto_flow": null,
       "grid_auto_rows": null,
       "grid_column": null,
       "grid_gap": null,
       "grid_row": null,
       "grid_template_areas": null,
       "grid_template_columns": null,
       "grid_template_rows": null,
       "height": null,
       "justify_content": null,
       "justify_items": null,
       "left": null,
       "margin": null,
       "max_height": null,
       "max_width": null,
       "min_height": null,
       "min_width": null,
       "object_fit": null,
       "object_position": null,
       "order": null,
       "overflow": null,
       "overflow_x": null,
       "overflow_y": null,
       "padding": null,
       "right": null,
       "top": null,
       "visibility": null,
       "width": null
      }
     },
     "82d24d37855e48ce84c0d3ecccd34241": {
      "model_module": "@jupyter-widgets/base",
      "model_module_version": "1.2.0",
      "model_name": "LayoutModel",
      "state": {
       "_model_module": "@jupyter-widgets/base",
       "_model_module_version": "1.2.0",
       "_model_name": "LayoutModel",
       "_view_count": null,
       "_view_module": "@jupyter-widgets/base",
       "_view_module_version": "1.2.0",
       "_view_name": "LayoutView",
       "align_content": null,
       "align_items": null,
       "align_self": null,
       "border": null,
       "bottom": null,
       "display": null,
       "flex": null,
       "flex_flow": null,
       "grid_area": null,
       "grid_auto_columns": null,
       "grid_auto_flow": null,
       "grid_auto_rows": null,
       "grid_column": null,
       "grid_gap": null,
       "grid_row": null,
       "grid_template_areas": null,
       "grid_template_columns": null,
       "grid_template_rows": null,
       "height": null,
       "justify_content": null,
       "justify_items": null,
       "left": null,
       "margin": null,
       "max_height": null,
       "max_width": null,
       "min_height": null,
       "min_width": null,
       "object_fit": null,
       "object_position": null,
       "order": null,
       "overflow": null,
       "overflow_x": null,
       "overflow_y": null,
       "padding": null,
       "right": null,
       "top": null,
       "visibility": null,
       "width": null
      }
     },
     "834be8589e8a461693d3f56579412631": {
      "model_module": "@jupyter-widgets/controls",
      "model_module_version": "1.5.0",
      "model_name": "HTMLModel",
      "state": {
       "_dom_classes": [],
       "_model_module": "@jupyter-widgets/controls",
       "_model_module_version": "1.5.0",
       "_model_name": "HTMLModel",
       "_view_count": null,
       "_view_module": "@jupyter-widgets/controls",
       "_view_module_version": "1.5.0",
       "_view_name": "HTMLView",
       "description": "",
       "description_tooltip": null,
       "layout": "IPY_MODEL_59c25dda197b424f93ddaac43678c1bc",
       "placeholder": "​",
       "style": "IPY_MODEL_1a4a288dd15042b18b03ab90e6f3c534",
       "value": " 232k/232k [00:00&lt;00:00, 872kB/s]"
      }
     },
     "85b83cdff5d1462dbf4a805da760b25f": {
      "model_module": "@jupyter-widgets/base",
      "model_module_version": "1.2.0",
      "model_name": "LayoutModel",
      "state": {
       "_model_module": "@jupyter-widgets/base",
       "_model_module_version": "1.2.0",
       "_model_name": "LayoutModel",
       "_view_count": null,
       "_view_module": "@jupyter-widgets/base",
       "_view_module_version": "1.2.0",
       "_view_name": "LayoutView",
       "align_content": null,
       "align_items": null,
       "align_self": null,
       "border": null,
       "bottom": null,
       "display": null,
       "flex": null,
       "flex_flow": null,
       "grid_area": null,
       "grid_auto_columns": null,
       "grid_auto_flow": null,
       "grid_auto_rows": null,
       "grid_column": null,
       "grid_gap": null,
       "grid_row": null,
       "grid_template_areas": null,
       "grid_template_columns": null,
       "grid_template_rows": null,
       "height": null,
       "justify_content": null,
       "justify_items": null,
       "left": null,
       "margin": null,
       "max_height": null,
       "max_width": null,
       "min_height": null,
       "min_width": null,
       "object_fit": null,
       "object_position": null,
       "order": null,
       "overflow": null,
       "overflow_x": null,
       "overflow_y": null,
       "padding": null,
       "right": null,
       "top": null,
       "visibility": null,
       "width": null
      }
     },
     "86974823770e4481a43c5a08ba50d62c": {
      "model_module": "@jupyter-widgets/controls",
      "model_module_version": "1.5.0",
      "model_name": "HTMLModel",
      "state": {
       "_dom_classes": [],
       "_model_module": "@jupyter-widgets/controls",
       "_model_module_version": "1.5.0",
       "_model_name": "HTMLModel",
       "_view_count": null,
       "_view_module": "@jupyter-widgets/controls",
       "_view_module_version": "1.5.0",
       "_view_name": "HTMLView",
       "description": "",
       "description_tooltip": null,
       "layout": "IPY_MODEL_81a841243a42422dbcb7832b7a8390d5",
       "placeholder": "​",
       "style": "IPY_MODEL_1a7dac54a829421787948d09a99b18ad",
       "value": "Epoch: 100%"
      }
     },
     "91c739d5c7f7447aa6f2e6160ed36850": {
      "model_module": "@jupyter-widgets/base",
      "model_module_version": "1.2.0",
      "model_name": "LayoutModel",
      "state": {
       "_model_module": "@jupyter-widgets/base",
       "_model_module_version": "1.2.0",
       "_model_name": "LayoutModel",
       "_view_count": null,
       "_view_module": "@jupyter-widgets/base",
       "_view_module_version": "1.2.0",
       "_view_name": "LayoutView",
       "align_content": null,
       "align_items": null,
       "align_self": null,
       "border": null,
       "bottom": null,
       "display": null,
       "flex": null,
       "flex_flow": null,
       "grid_area": null,
       "grid_auto_columns": null,
       "grid_auto_flow": null,
       "grid_auto_rows": null,
       "grid_column": null,
       "grid_gap": null,
       "grid_row": null,
       "grid_template_areas": null,
       "grid_template_columns": null,
       "grid_template_rows": null,
       "height": null,
       "justify_content": null,
       "justify_items": null,
       "left": null,
       "margin": null,
       "max_height": null,
       "max_width": null,
       "min_height": null,
       "min_width": null,
       "object_fit": null,
       "object_position": null,
       "order": null,
       "overflow": null,
       "overflow_x": null,
       "overflow_y": null,
       "padding": null,
       "right": null,
       "top": null,
       "visibility": null,
       "width": null
      }
     },
     "98d9a072c0e14b6daab95aec2b5440b6": {
      "model_module": "@jupyter-widgets/base",
      "model_module_version": "1.2.0",
      "model_name": "LayoutModel",
      "state": {
       "_model_module": "@jupyter-widgets/base",
       "_model_module_version": "1.2.0",
       "_model_name": "LayoutModel",
       "_view_count": null,
       "_view_module": "@jupyter-widgets/base",
       "_view_module_version": "1.2.0",
       "_view_name": "LayoutView",
       "align_content": null,
       "align_items": null,
       "align_self": null,
       "border": null,
       "bottom": null,
       "display": null,
       "flex": null,
       "flex_flow": null,
       "grid_area": null,
       "grid_auto_columns": null,
       "grid_auto_flow": null,
       "grid_auto_rows": null,
       "grid_column": null,
       "grid_gap": null,
       "grid_row": null,
       "grid_template_areas": null,
       "grid_template_columns": null,
       "grid_template_rows": null,
       "height": null,
       "justify_content": null,
       "justify_items": null,
       "left": null,
       "margin": null,
       "max_height": null,
       "max_width": null,
       "min_height": null,
       "min_width": null,
       "object_fit": null,
       "object_position": null,
       "order": null,
       "overflow": null,
       "overflow_x": null,
       "overflow_y": null,
       "padding": null,
       "right": null,
       "top": null,
       "visibility": null,
       "width": null
      }
     },
     "a4e65cf1cb7547f5ae6083682a33354b": {
      "model_module": "@jupyter-widgets/controls",
      "model_module_version": "1.5.0",
      "model_name": "ProgressStyleModel",
      "state": {
       "_model_module": "@jupyter-widgets/controls",
       "_model_module_version": "1.5.0",
       "_model_name": "ProgressStyleModel",
       "_view_count": null,
       "_view_module": "@jupyter-widgets/base",
       "_view_module_version": "1.2.0",
       "_view_name": "StyleView",
       "bar_color": null,
       "description_width": ""
      }
     },
     "a6113526b7ee4c2dabff56f9fdf27577": {
      "model_module": "@jupyter-widgets/controls",
      "model_module_version": "1.5.0",
      "model_name": "ProgressStyleModel",
      "state": {
       "_model_module": "@jupyter-widgets/controls",
       "_model_module_version": "1.5.0",
       "_model_name": "ProgressStyleModel",
       "_view_count": null,
       "_view_module": "@jupyter-widgets/base",
       "_view_module_version": "1.2.0",
       "_view_name": "StyleView",
       "bar_color": null,
       "description_width": ""
      }
     },
     "a884195f49a34749bd2c6aa7d2ce8fc3": {
      "model_module": "@jupyter-widgets/base",
      "model_module_version": "1.2.0",
      "model_name": "LayoutModel",
      "state": {
       "_model_module": "@jupyter-widgets/base",
       "_model_module_version": "1.2.0",
       "_model_name": "LayoutModel",
       "_view_count": null,
       "_view_module": "@jupyter-widgets/base",
       "_view_module_version": "1.2.0",
       "_view_name": "LayoutView",
       "align_content": null,
       "align_items": null,
       "align_self": null,
       "border": null,
       "bottom": null,
       "display": null,
       "flex": null,
       "flex_flow": null,
       "grid_area": null,
       "grid_auto_columns": null,
       "grid_auto_flow": null,
       "grid_auto_rows": null,
       "grid_column": null,
       "grid_gap": null,
       "grid_row": null,
       "grid_template_areas": null,
       "grid_template_columns": null,
       "grid_template_rows": null,
       "height": null,
       "justify_content": null,
       "justify_items": null,
       "left": null,
       "margin": null,
       "max_height": null,
       "max_width": null,
       "min_height": null,
       "min_width": null,
       "object_fit": null,
       "object_position": null,
       "order": null,
       "overflow": null,
       "overflow_x": null,
       "overflow_y": null,
       "padding": null,
       "right": null,
       "top": null,
       "visibility": null,
       "width": null
      }
     },
     "ad117dac608b485dbf5d6976afd08103": {
      "model_module": "@jupyter-widgets/base",
      "model_module_version": "1.2.0",
      "model_name": "LayoutModel",
      "state": {
       "_model_module": "@jupyter-widgets/base",
       "_model_module_version": "1.2.0",
       "_model_name": "LayoutModel",
       "_view_count": null,
       "_view_module": "@jupyter-widgets/base",
       "_view_module_version": "1.2.0",
       "_view_name": "LayoutView",
       "align_content": null,
       "align_items": null,
       "align_self": null,
       "border": null,
       "bottom": null,
       "display": null,
       "flex": null,
       "flex_flow": null,
       "grid_area": null,
       "grid_auto_columns": null,
       "grid_auto_flow": null,
       "grid_auto_rows": null,
       "grid_column": null,
       "grid_gap": null,
       "grid_row": null,
       "grid_template_areas": null,
       "grid_template_columns": null,
       "grid_template_rows": null,
       "height": null,
       "justify_content": null,
       "justify_items": null,
       "left": null,
       "margin": null,
       "max_height": null,
       "max_width": null,
       "min_height": null,
       "min_width": null,
       "object_fit": null,
       "object_position": null,
       "order": null,
       "overflow": null,
       "overflow_x": null,
       "overflow_y": null,
       "padding": null,
       "right": null,
       "top": null,
       "visibility": null,
       "width": null
      }
     },
     "aeb94ec988b04fe78d30a27c8900da4c": {
      "model_module": "@jupyter-widgets/base",
      "model_module_version": "1.2.0",
      "model_name": "LayoutModel",
      "state": {
       "_model_module": "@jupyter-widgets/base",
       "_model_module_version": "1.2.0",
       "_model_name": "LayoutModel",
       "_view_count": null,
       "_view_module": "@jupyter-widgets/base",
       "_view_module_version": "1.2.0",
       "_view_name": "LayoutView",
       "align_content": null,
       "align_items": null,
       "align_self": null,
       "border": null,
       "bottom": null,
       "display": null,
       "flex": null,
       "flex_flow": null,
       "grid_area": null,
       "grid_auto_columns": null,
       "grid_auto_flow": null,
       "grid_auto_rows": null,
       "grid_column": null,
       "grid_gap": null,
       "grid_row": null,
       "grid_template_areas": null,
       "grid_template_columns": null,
       "grid_template_rows": null,
       "height": null,
       "justify_content": null,
       "justify_items": null,
       "left": null,
       "margin": null,
       "max_height": null,
       "max_width": null,
       "min_height": null,
       "min_width": null,
       "object_fit": null,
       "object_position": null,
       "order": null,
       "overflow": null,
       "overflow_x": null,
       "overflow_y": null,
       "padding": null,
       "right": null,
       "top": null,
       "visibility": null,
       "width": null
      }
     },
     "af8b83096c6443bbb2a151a775c6776a": {
      "model_module": "@jupyter-widgets/controls",
      "model_module_version": "1.5.0",
      "model_name": "DescriptionStyleModel",
      "state": {
       "_model_module": "@jupyter-widgets/controls",
       "_model_module_version": "1.5.0",
       "_model_name": "DescriptionStyleModel",
       "_view_count": null,
       "_view_module": "@jupyter-widgets/base",
       "_view_module_version": "1.2.0",
       "_view_name": "StyleView",
       "description_width": ""
      }
     },
     "b286cb189a6b4944b5ce87fb61e9174f": {
      "model_module": "@jupyter-widgets/controls",
      "model_module_version": "1.5.0",
      "model_name": "HTMLModel",
      "state": {
       "_dom_classes": [],
       "_model_module": "@jupyter-widgets/controls",
       "_model_module_version": "1.5.0",
       "_model_name": "HTMLModel",
       "_view_count": null,
       "_view_module": "@jupyter-widgets/controls",
       "_view_module_version": "1.5.0",
       "_view_name": "HTMLView",
       "description": "",
       "description_tooltip": null,
       "layout": "IPY_MODEL_fad550aa528546d485617aaad943f3f3",
       "placeholder": "​",
       "style": "IPY_MODEL_57a83627aafe48ad97730e1764cd5ce8",
       "value": " 440M/440M [00:10&lt;00:00, 46.5MB/s]"
      }
     },
     "b5f728a879d34b69a903f9cef83ca88d": {
      "model_module": "@jupyter-widgets/controls",
      "model_module_version": "1.5.0",
      "model_name": "HTMLModel",
      "state": {
       "_dom_classes": [],
       "_model_module": "@jupyter-widgets/controls",
       "_model_module_version": "1.5.0",
       "_model_name": "HTMLModel",
       "_view_count": null,
       "_view_module": "@jupyter-widgets/controls",
       "_view_module_version": "1.5.0",
       "_view_name": "HTMLView",
       "description": "",
       "description_tooltip": null,
       "layout": "IPY_MODEL_85b83cdff5d1462dbf4a805da760b25f",
       "placeholder": "​",
       "style": "IPY_MODEL_5607599808f14ad7b65de4fb985d1407",
       "value": "Downloading: 100%"
      }
     },
     "bae0f8d44b7b43a59f99791761201a2c": {
      "model_module": "@jupyter-widgets/controls",
      "model_module_version": "1.5.0",
      "model_name": "FloatProgressModel",
      "state": {
       "_dom_classes": [],
       "_model_module": "@jupyter-widgets/controls",
       "_model_module_version": "1.5.0",
       "_model_name": "FloatProgressModel",
       "_view_count": null,
       "_view_module": "@jupyter-widgets/controls",
       "_view_module_version": "1.5.0",
       "_view_name": "ProgressView",
       "bar_style": "success",
       "description": "",
       "description_tooltip": null,
       "layout": "IPY_MODEL_a884195f49a34749bd2c6aa7d2ce8fc3",
       "max": 1.0,
       "min": 0.0,
       "orientation": "horizontal",
       "style": "IPY_MODEL_a4e65cf1cb7547f5ae6083682a33354b",
       "value": 1.0
      }
     },
     "bc885cbe7b3d4fca8e13352db5025c94": {
      "model_module": "@jupyter-widgets/controls",
      "model_module_version": "1.5.0",
      "model_name": "FloatProgressModel",
      "state": {
       "_dom_classes": [],
       "_model_module": "@jupyter-widgets/controls",
       "_model_module_version": "1.5.0",
       "_model_name": "FloatProgressModel",
       "_view_count": null,
       "_view_module": "@jupyter-widgets/controls",
       "_view_module_version": "1.5.0",
       "_view_name": "ProgressView",
       "bar_style": "success",
       "description": "",
       "description_tooltip": null,
       "layout": "IPY_MODEL_48579eb8707444759a2227410a90a7f1",
       "max": 433.0,
       "min": 0.0,
       "orientation": "horizontal",
       "style": "IPY_MODEL_5d1eeffc6c3c4e328e571d0199367d52",
       "value": 433.0
      }
     },
     "bebf93347dd344b8a2d19a93f9d13e94": {
      "model_module": "@jupyter-widgets/base",
      "model_module_version": "1.2.0",
      "model_name": "LayoutModel",
      "state": {
       "_model_module": "@jupyter-widgets/base",
       "_model_module_version": "1.2.0",
       "_model_name": "LayoutModel",
       "_view_count": null,
       "_view_module": "@jupyter-widgets/base",
       "_view_module_version": "1.2.0",
       "_view_name": "LayoutView",
       "align_content": null,
       "align_items": null,
       "align_self": null,
       "border": null,
       "bottom": null,
       "display": null,
       "flex": null,
       "flex_flow": null,
       "grid_area": null,
       "grid_auto_columns": null,
       "grid_auto_flow": null,
       "grid_auto_rows": null,
       "grid_column": null,
       "grid_gap": null,
       "grid_row": null,
       "grid_template_areas": null,
       "grid_template_columns": null,
       "grid_template_rows": null,
       "height": null,
       "justify_content": null,
       "justify_items": null,
       "left": null,
       "margin": null,
       "max_height": null,
       "max_width": null,
       "min_height": null,
       "min_width": null,
       "object_fit": null,
       "object_position": null,
       "order": null,
       "overflow": null,
       "overflow_x": null,
       "overflow_y": null,
       "padding": null,
       "right": null,
       "top": null,
       "visibility": null,
       "width": null
      }
     },
     "cabeb5f1c246441f8cc4ef5cc98d2652": {
      "model_module": "@jupyter-widgets/base",
      "model_module_version": "1.2.0",
      "model_name": "LayoutModel",
      "state": {
       "_model_module": "@jupyter-widgets/base",
       "_model_module_version": "1.2.0",
       "_model_name": "LayoutModel",
       "_view_count": null,
       "_view_module": "@jupyter-widgets/base",
       "_view_module_version": "1.2.0",
       "_view_name": "LayoutView",
       "align_content": null,
       "align_items": null,
       "align_self": null,
       "border": null,
       "bottom": null,
       "display": null,
       "flex": null,
       "flex_flow": null,
       "grid_area": null,
       "grid_auto_columns": null,
       "grid_auto_flow": null,
       "grid_auto_rows": null,
       "grid_column": null,
       "grid_gap": null,
       "grid_row": null,
       "grid_template_areas": null,
       "grid_template_columns": null,
       "grid_template_rows": null,
       "height": null,
       "justify_content": null,
       "justify_items": null,
       "left": null,
       "margin": null,
       "max_height": null,
       "max_width": null,
       "min_height": null,
       "min_width": null,
       "object_fit": null,
       "object_position": null,
       "order": null,
       "overflow": null,
       "overflow_x": null,
       "overflow_y": null,
       "padding": null,
       "right": null,
       "top": null,
       "visibility": null,
       "width": null
      }
     },
     "cca47d1b89ca4eb6859511588b8704f5": {
      "model_module": "@jupyter-widgets/controls",
      "model_module_version": "1.5.0",
      "model_name": "FloatProgressModel",
      "state": {
       "_dom_classes": [],
       "_model_module": "@jupyter-widgets/controls",
       "_model_module_version": "1.5.0",
       "_model_name": "FloatProgressModel",
       "_view_count": null,
       "_view_module": "@jupyter-widgets/controls",
       "_view_module_version": "1.5.0",
       "_view_name": "ProgressView",
       "bar_style": "success",
       "description": "",
       "description_tooltip": null,
       "layout": "IPY_MODEL_fec3a3e8edde443cac33c3e6b2e8a92b",
       "max": 46827520.0,
       "min": 0.0,
       "orientation": "horizontal",
       "style": "IPY_MODEL_515ed89b12dd4b14b5aaba4e1276e54c",
       "value": 46827520.0
      }
     },
     "cdaa452bed5a4e09a4016e651722f4d3": {
      "model_module": "@jupyter-widgets/controls",
      "model_module_version": "1.5.0",
      "model_name": "FloatProgressModel",
      "state": {
       "_dom_classes": [],
       "_model_module": "@jupyter-widgets/controls",
       "_model_module_version": "1.5.0",
       "_model_name": "FloatProgressModel",
       "_view_count": null,
       "_view_module": "@jupyter-widgets/controls",
       "_view_module_version": "1.5.0",
       "_view_name": "ProgressView",
       "bar_style": "success",
       "description": "",
       "description_tooltip": null,
       "layout": "IPY_MODEL_40b6a5cfc4d54291a3b65b4f9ee6065d",
       "max": 1393.0,
       "min": 0.0,
       "orientation": "horizontal",
       "style": "IPY_MODEL_47ff2ac9c1ee4f0fb1d255ee7fef39da",
       "value": 1393.0
      }
     },
     "ceaf1c9bec1143ea8a91a81084f37d37": {
      "model_module": "@jupyter-widgets/controls",
      "model_module_version": "1.5.0",
      "model_name": "HBoxModel",
      "state": {
       "_dom_classes": [],
       "_model_module": "@jupyter-widgets/controls",
       "_model_module_version": "1.5.0",
       "_model_name": "HBoxModel",
       "_view_count": null,
       "_view_module": "@jupyter-widgets/controls",
       "_view_module_version": "1.5.0",
       "_view_name": "HBoxView",
       "box_style": "",
       "children": [
        "IPY_MODEL_b5f728a879d34b69a903f9cef83ca88d",
        "IPY_MODEL_09181dff4e664be7a818fd7b70c60bda",
        "IPY_MODEL_3004eba17e384ad9bc8e8b03b3711ec9"
       ],
       "layout": "IPY_MODEL_d5a73680b08144209da7b10352806e02"
      }
     },
     "d5a73680b08144209da7b10352806e02": {
      "model_module": "@jupyter-widgets/base",
      "model_module_version": "1.2.0",
      "model_name": "LayoutModel",
      "state": {
       "_model_module": "@jupyter-widgets/base",
       "_model_module_version": "1.2.0",
       "_model_name": "LayoutModel",
       "_view_count": null,
       "_view_module": "@jupyter-widgets/base",
       "_view_module_version": "1.2.0",
       "_view_name": "LayoutView",
       "align_content": null,
       "align_items": null,
       "align_self": null,
       "border": null,
       "bottom": null,
       "display": null,
       "flex": null,
       "flex_flow": null,
       "grid_area": null,
       "grid_auto_columns": null,
       "grid_auto_flow": null,
       "grid_auto_rows": null,
       "grid_column": null,
       "grid_gap": null,
       "grid_row": null,
       "grid_template_areas": null,
       "grid_template_columns": null,
       "grid_template_rows": null,
       "height": null,
       "justify_content": null,
       "justify_items": null,
       "left": null,
       "margin": null,
       "max_height": null,
       "max_width": null,
       "min_height": null,
       "min_width": null,
       "object_fit": null,
       "object_position": null,
       "order": null,
       "overflow": null,
       "overflow_x": null,
       "overflow_y": null,
       "padding": null,
       "right": null,
       "top": null,
       "visibility": null,
       "width": null
      }
     },
     "df35de6aacf14ed68f567008825280fb": {
      "model_module": "@jupyter-widgets/controls",
      "model_module_version": "1.5.0",
      "model_name": "DescriptionStyleModel",
      "state": {
       "_model_module": "@jupyter-widgets/controls",
       "_model_module_version": "1.5.0",
       "_model_name": "DescriptionStyleModel",
       "_view_count": null,
       "_view_module": "@jupyter-widgets/base",
       "_view_module_version": "1.2.0",
       "_view_name": "StyleView",
       "description_width": ""
      }
     },
     "e045cbbc18cf480d829b9a4b4f2a52d4": {
      "model_module": "@jupyter-widgets/controls",
      "model_module_version": "1.5.0",
      "model_name": "HTMLModel",
      "state": {
       "_dom_classes": [],
       "_model_module": "@jupyter-widgets/controls",
       "_model_module_version": "1.5.0",
       "_model_name": "HTMLModel",
       "_view_count": null,
       "_view_module": "@jupyter-widgets/controls",
       "_view_module_version": "1.5.0",
       "_view_name": "HTMLView",
       "description": "",
       "description_tooltip": null,
       "layout": "IPY_MODEL_e8ddbccdc7384480bc3227756ec71c75",
       "placeholder": "​",
       "style": "IPY_MODEL_df35de6aacf14ed68f567008825280fb",
       "value": " 433/433 [00:00&lt;00:00, 15.7kB/s]"
      }
     },
     "e437fb7f113e43aba0bacda2b0a6d1e4": {
      "model_module": "@jupyter-widgets/controls",
      "model_module_version": "1.5.0",
      "model_name": "DescriptionStyleModel",
      "state": {
       "_model_module": "@jupyter-widgets/controls",
       "_model_module_version": "1.5.0",
       "_model_name": "DescriptionStyleModel",
       "_view_count": null,
       "_view_module": "@jupyter-widgets/base",
       "_view_module_version": "1.2.0",
       "_view_name": "StyleView",
       "description_width": ""
      }
     },
     "e6c7c4e30f2f44fd9090c5947e5dbc13": {
      "model_module": "@jupyter-widgets/controls",
      "model_module_version": "1.5.0",
      "model_name": "DescriptionStyleModel",
      "state": {
       "_model_module": "@jupyter-widgets/controls",
       "_model_module_version": "1.5.0",
       "_model_name": "DescriptionStyleModel",
       "_view_count": null,
       "_view_module": "@jupyter-widgets/base",
       "_view_module_version": "1.2.0",
       "_view_name": "StyleView",
       "description_width": ""
      }
     },
     "e7381a0ba4dc4f83bea44e2376c64f0b": {
      "model_module": "@jupyter-widgets/controls",
      "model_module_version": "1.5.0",
      "model_name": "FloatProgressModel",
      "state": {
       "_dom_classes": [],
       "_model_module": "@jupyter-widgets/controls",
       "_model_module_version": "1.5.0",
       "_model_name": "FloatProgressModel",
       "_view_count": null,
       "_view_module": "@jupyter-widgets/controls",
       "_view_module_version": "1.5.0",
       "_view_name": "ProgressView",
       "bar_style": "success",
       "description": "",
       "description_tooltip": null,
       "layout": "IPY_MODEL_aeb94ec988b04fe78d30a27c8900da4c",
       "max": 440473133.0,
       "min": 0.0,
       "orientation": "horizontal",
       "style": "IPY_MODEL_a6113526b7ee4c2dabff56f9fdf27577",
       "value": 440473133.0
      }
     },
     "e833fa9af1874f68abb71d628592dc25": {
      "model_module": "@jupyter-widgets/base",
      "model_module_version": "1.2.0",
      "model_name": "LayoutModel",
      "state": {
       "_model_module": "@jupyter-widgets/base",
       "_model_module_version": "1.2.0",
       "_model_name": "LayoutModel",
       "_view_count": null,
       "_view_module": "@jupyter-widgets/base",
       "_view_module_version": "1.2.0",
       "_view_name": "LayoutView",
       "align_content": null,
       "align_items": null,
       "align_self": null,
       "border": null,
       "bottom": null,
       "display": null,
       "flex": null,
       "flex_flow": null,
       "grid_area": null,
       "grid_auto_columns": null,
       "grid_auto_flow": null,
       "grid_auto_rows": null,
       "grid_column": null,
       "grid_gap": null,
       "grid_row": null,
       "grid_template_areas": null,
       "grid_template_columns": null,
       "grid_template_rows": null,
       "height": null,
       "justify_content": null,
       "justify_items": null,
       "left": null,
       "margin": null,
       "max_height": null,
       "max_width": null,
       "min_height": null,
       "min_width": null,
       "object_fit": null,
       "object_position": null,
       "order": null,
       "overflow": null,
       "overflow_x": null,
       "overflow_y": null,
       "padding": null,
       "right": null,
       "top": null,
       "visibility": null,
       "width": null
      }
     },
     "e8ddbccdc7384480bc3227756ec71c75": {
      "model_module": "@jupyter-widgets/base",
      "model_module_version": "1.2.0",
      "model_name": "LayoutModel",
      "state": {
       "_model_module": "@jupyter-widgets/base",
       "_model_module_version": "1.2.0",
       "_model_name": "LayoutModel",
       "_view_count": null,
       "_view_module": "@jupyter-widgets/base",
       "_view_module_version": "1.2.0",
       "_view_name": "LayoutView",
       "align_content": null,
       "align_items": null,
       "align_self": null,
       "border": null,
       "bottom": null,
       "display": null,
       "flex": null,
       "flex_flow": null,
       "grid_area": null,
       "grid_auto_columns": null,
       "grid_auto_flow": null,
       "grid_auto_rows": null,
       "grid_column": null,
       "grid_gap": null,
       "grid_row": null,
       "grid_template_areas": null,
       "grid_template_columns": null,
       "grid_template_rows": null,
       "height": null,
       "justify_content": null,
       "justify_items": null,
       "left": null,
       "margin": null,
       "max_height": null,
       "max_width": null,
       "min_height": null,
       "min_width": null,
       "object_fit": null,
       "object_position": null,
       "order": null,
       "overflow": null,
       "overflow_x": null,
       "overflow_y": null,
       "padding": null,
       "right": null,
       "top": null,
       "visibility": null,
       "width": null
      }
     },
     "eefe81abfeed4ee99bd576540bbf2d4d": {
      "model_module": "@jupyter-widgets/base",
      "model_module_version": "1.2.0",
      "model_name": "LayoutModel",
      "state": {
       "_model_module": "@jupyter-widgets/base",
       "_model_module_version": "1.2.0",
       "_model_name": "LayoutModel",
       "_view_count": null,
       "_view_module": "@jupyter-widgets/base",
       "_view_module_version": "1.2.0",
       "_view_name": "LayoutView",
       "align_content": null,
       "align_items": null,
       "align_self": null,
       "border": null,
       "bottom": null,
       "display": null,
       "flex": null,
       "flex_flow": null,
       "grid_area": null,
       "grid_auto_columns": null,
       "grid_auto_flow": null,
       "grid_auto_rows": null,
       "grid_column": null,
       "grid_gap": null,
       "grid_row": null,
       "grid_template_areas": null,
       "grid_template_columns": null,
       "grid_template_rows": null,
       "height": null,
       "justify_content": null,
       "justify_items": null,
       "left": null,
       "margin": null,
       "max_height": null,
       "max_width": null,
       "min_height": null,
       "min_width": null,
       "object_fit": null,
       "object_position": null,
       "order": null,
       "overflow": null,
       "overflow_x": null,
       "overflow_y": null,
       "padding": null,
       "right": null,
       "top": null,
       "visibility": null,
       "width": null
      }
     },
     "fad550aa528546d485617aaad943f3f3": {
      "model_module": "@jupyter-widgets/base",
      "model_module_version": "1.2.0",
      "model_name": "LayoutModel",
      "state": {
       "_model_module": "@jupyter-widgets/base",
       "_model_module_version": "1.2.0",
       "_model_name": "LayoutModel",
       "_view_count": null,
       "_view_module": "@jupyter-widgets/base",
       "_view_module_version": "1.2.0",
       "_view_name": "LayoutView",
       "align_content": null,
       "align_items": null,
       "align_self": null,
       "border": null,
       "bottom": null,
       "display": null,
       "flex": null,
       "flex_flow": null,
       "grid_area": null,
       "grid_auto_columns": null,
       "grid_auto_flow": null,
       "grid_auto_rows": null,
       "grid_column": null,
       "grid_gap": null,
       "grid_row": null,
       "grid_template_areas": null,
       "grid_template_columns": null,
       "grid_template_rows": null,
       "height": null,
       "justify_content": null,
       "justify_items": null,
       "left": null,
       "margin": null,
       "max_height": null,
       "max_width": null,
       "min_height": null,
       "min_width": null,
       "object_fit": null,
       "object_position": null,
       "order": null,
       "overflow": null,
       "overflow_x": null,
       "overflow_y": null,
       "padding": null,
       "right": null,
       "top": null,
       "visibility": null,
       "width": null
      }
     },
     "fec3a3e8edde443cac33c3e6b2e8a92b": {
      "model_module": "@jupyter-widgets/base",
      "model_module_version": "1.2.0",
      "model_name": "LayoutModel",
      "state": {
       "_model_module": "@jupyter-widgets/base",
       "_model_module_version": "1.2.0",
       "_model_name": "LayoutModel",
       "_view_count": null,
       "_view_module": "@jupyter-widgets/base",
       "_view_module_version": "1.2.0",
       "_view_name": "LayoutView",
       "align_content": null,
       "align_items": null,
       "align_self": null,
       "border": null,
       "bottom": null,
       "display": null,
       "flex": null,
       "flex_flow": null,
       "grid_area": null,
       "grid_auto_columns": null,
       "grid_auto_flow": null,
       "grid_auto_rows": null,
       "grid_column": null,
       "grid_gap": null,
       "grid_row": null,
       "grid_template_areas": null,
       "grid_template_columns": null,
       "grid_template_rows": null,
       "height": null,
       "justify_content": null,
       "justify_items": null,
       "left": null,
       "margin": null,
       "max_height": null,
       "max_width": null,
       "min_height": null,
       "min_width": null,
       "object_fit": null,
       "object_position": null,
       "order": null,
       "overflow": null,
       "overflow_x": null,
       "overflow_y": null,
       "padding": null,
       "right": null,
       "top": null,
       "visibility": null,
       "width": null
      }
     },
     "ff524736bd3141a28ee5ce61b241f1f0": {
      "model_module": "@jupyter-widgets/controls",
      "model_module_version": "1.5.0",
      "model_name": "DescriptionStyleModel",
      "state": {
       "_model_module": "@jupyter-widgets/controls",
       "_model_module_version": "1.5.0",
       "_model_name": "DescriptionStyleModel",
       "_view_count": null,
       "_view_module": "@jupyter-widgets/base",
       "_view_module_version": "1.2.0",
       "_view_name": "StyleView",
       "description_width": ""
      }
     }
    },
    "version_major": 2,
    "version_minor": 0
   }
  }
 },
 "nbformat": 4,
 "nbformat_minor": 4
}
